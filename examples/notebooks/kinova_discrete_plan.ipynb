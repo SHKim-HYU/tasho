{
 "cells": [
  {
   "cell_type": "markdown",
   "id": "87bb3284",
   "metadata": {},
   "source": [
    "# TASHO - A model predictive control toolchain for constraint-based task specification of robot motions\n",
    "\n",
    "#### Presented by: Alejandro Astudillo and Ajay Sathya\n",
    "\n",
    "Tasho stands for “**TA**sk **S**pecification with receding **HO**rizon control”\n"
   ]
  },
  {
   "cell_type": "markdown",
   "id": "6c9a13c8",
   "metadata": {},
   "source": [
    "First, we need to import the relevant modules from Tasho and other dependencies (casadi, numpy)"
   ]
  },
  {
   "cell_type": "code",
   "execution_count": null,
   "id": "c07e9bee",
   "metadata": {},
   "outputs": [],
   "source": [
    "import os\n",
    "os.chdir(str(os.getcwd())+\"/../../\")\n",
    "\n",
    "\n",
    "from tasho import robot as rob\n",
    "from tasho import discrete_plan as dp\n",
    "\n",
    "from tasho import problem_template as pt\n",
    "from tasho import environment as env\n",
    "\n",
    "import casadi as cs\n",
    "from casadi import pi, cos, sin\n",
    "from rockit import MultipleShooting, Ocp\n",
    "import numpy as np"
   ]
  },
  {
   "cell_type": "markdown",
   "id": "8fc49402",
   "metadata": {},
   "source": [
    "## Instantiate plan"
   ]
  },
  {
   "cell_type": "code",
   "execution_count": null,
   "id": "17510953",
   "metadata": {},
   "outputs": [],
   "source": [
    "plan = dp.DiscretePlan()"
   ]
  },
  {
   "cell_type": "markdown",
   "id": "b307ed5b",
   "metadata": {},
   "source": [
    "## Set robot"
   ]
  },
  {
   "cell_type": "code",
   "execution_count": null,
   "id": "b201dc0b",
   "metadata": {},
   "outputs": [],
   "source": [
    "# Initial joint configuration\n",
    "q0_val = [0, -0.523598, 0, 2.51799, 0, -0.523598, 0]\n",
    "# Initial joint velocity\n",
    "q_dot0_val = [0]*7\n",
    "\n",
    "robot = rob.Robot('kinova')\n",
    "robot.set_joint_acceleration_limits(lb = -30*3.14159/180, ub = 30*3.14159/180)\n",
    "robot.set_state(q0_val + q_dot0_val)\n",
    "robot.set_robot_input_resolution(\"acceleration\")"
   ]
  },
  {
   "cell_type": "markdown",
   "id": "8b4affcf",
   "metadata": {},
   "source": [
    "## Set environment"
   ]
  },
  {
   "cell_type": "code",
   "execution_count": null,
   "id": "d936fdd1",
   "metadata": {},
   "outputs": [],
   "source": [
    "environment = env.Environment()\n",
    "\n",
    "cube1 = env.Cube(length = 1, position = [0.5, 0, 0.35], orientation = [0.0, 0.0, 0.0, 1.0], urdf = \"/models/objects/cube_small.urdf\")\n",
    "table1 = env.Box(height = 0.3, position = [0.5, 0, 0], orientation = [0.0, 0.0, 0.7071080798594737, 0.7071054825112364], urdf = \"/models/objects/table.urdf\")\n",
    "table2 = env.Box(height = 0.3, position = [0,0.5, 0], orientation = [0.0, 0.0, 0.0, 1.0], urdf = \"/models/objects/table.urdf\")\n",
    "# table3 = env.Box(height = 0.3, position = [0,-0.5, 0], orientation = [0.0, 0.0, 0.0, 1.0], urdf = \"/models/objects/table.urdf\")"
   ]
  },
  {
   "cell_type": "code",
   "execution_count": null,
   "id": "7d050bf0",
   "metadata": {},
   "outputs": [],
   "source": [
    "environment.add_object(cube1, \"cube\")\n",
    "environment.add_object(table1, \"table1\")\n",
    "environment.add_object(table2, \"table2\")\n",
    "# environment.add_object(table3, \"table3\")"
   ]
  },
  {
   "cell_type": "code",
   "execution_count": null,
   "id": "03b79463",
   "metadata": {},
   "outputs": [],
   "source": [
    "environment.print_objects()"
   ]
  },
  {
   "cell_type": "code",
   "execution_count": null,
   "id": "bf1f4a57",
   "metadata": {},
   "outputs": [],
   "source": [
    "plan.add_environment(environment)"
   ]
  },
  {
   "cell_type": "markdown",
   "id": "2addf0c9",
   "metadata": {},
   "source": [
    "## Task 1: Approximation to object"
   ]
  },
  {
   "cell_type": "code",
   "execution_count": null,
   "id": "55017df3",
   "metadata": {},
   "outputs": [],
   "source": [
    "horizon_size = 10\n",
    "t_mpc = 0.5\n",
    "\n",
    "T_goal = np.array([[0, 1, 0, 0.5], [1, 0, 0, 0], [0, 0, -1, 0.25], [0, 0, 0, 1]])  # T_goal = np.array([[0.0, 0., -1., 0.5], [0., 1., 0., 0.], [1.0, 0., 0.0, 0.5], [0.0, 0.0, 0.0, 1.0]]) # T_goal = np.array([[0., 0., -1., 0.5], [-1., 0., 0., 0.], [0., 1., 0.0, 0.5], [0.0, 0.0, 0.0, 1.0]]) # T_goal = np.array([[0., 1., 0., 0.5], [1., 0., 0., 0.], [0., 0., -1.0, 0.5], [0.0, 0.0, 0.0, 1.0]]) # T_goal = np.array([[0, 1, 0, 0], [1, 0, 0, -0.5], [0, 0, -1, 0.5], [0, 0, 0, 1]])\n",
    "\n",
    "approach_task = pt.Point2Point(horizon_size*t_mpc, horizon_steps = horizon_size, goal = T_goal)\n",
    "\n",
    "approach_task.add_robot(robot)"
   ]
  },
  {
   "cell_type": "markdown",
   "id": "acf39942",
   "metadata": {},
   "source": [
    "## Task 2: Picking the object up"
   ]
  },
  {
   "cell_type": "code",
   "execution_count": null,
   "id": "4e26a714",
   "metadata": {},
   "outputs": [],
   "source": [
    "horizon_size = 30\n",
    "t_mpc = 0.5\n",
    "\n",
    "# T_goal = np.array([[-1, 0, 0, 0], [0, 1, 0, 0.5], [0, 0, -1, 0.25], [0, 0, 0, 1]])\n",
    "# T_goal = np.array([[0, 0, 1, 0.5], [1, 0, 0, 0.2], [0, 1, 0, 0.5], [0, 0, 0, 1]])\n",
    "T_goal = np.array([[0, 1, 0, 0.4], [1, 0, 0, 0.15], [0, 0, -1, 0.25], [0, 0, 0, 1]])\n",
    "\n",
    "pickup_task = pt.Point2Point(time = horizon_size*t_mpc, horizon_steps = horizon_size, goal = T_goal)\n",
    "\n",
    "pickup_task.add_robot(robot)"
   ]
  },
  {
   "cell_type": "markdown",
   "id": "6c42f508",
   "metadata": {},
   "source": [
    "## Define discrete plan"
   ]
  },
  {
   "cell_type": "code",
   "execution_count": null,
   "id": "b1c70e0a",
   "metadata": {},
   "outputs": [],
   "source": [
    "plan.add_task(approach_task, \"approach\")\n",
    "plan.add_task(pickup_task, \"pickup\")"
   ]
  },
  {
   "cell_type": "code",
   "execution_count": null,
   "id": "36529975",
   "metadata": {},
   "outputs": [],
   "source": [
    "plan.print_tasks()"
   ]
  },
  {
   "cell_type": "markdown",
   "id": "84cd91ce",
   "metadata": {},
   "source": [
    "## Solve specific tasks in the plan"
   ]
  },
  {
   "cell_type": "code",
   "execution_count": null,
   "id": "98191110",
   "metadata": {},
   "outputs": [],
   "source": [
    "sol = plan.solve_task(task_name = \"approach\", q_init = q0_val)\n",
    "# sol_list = plan.solve_task(task_name = [\"approach\",\"pickup\"], q_init = q0_val)\n",
    "# sol_list = plan.execute_plan(q_init = q0_val)"
   ]
  },
  {
   "cell_type": "markdown",
   "id": "509d3a03",
   "metadata": {},
   "source": [
    "\n",
    "## Simulate plan execution\n"
   ]
  },
  {
   "cell_type": "code",
   "execution_count": null,
   "id": "c557ef75",
   "metadata": {},
   "outputs": [],
   "source": [
    "robot_q0 = robot.get_initial_conditions[0:robot.ndof]\n",
    "robot_qdot0 = robot.get_initial_conditions[robot.ndof:2*robot.ndof]\n",
    "\n",
    "plan.simulate_plan(simulator = \"bullet\", q_init = robot_q0, qdot_init = robot_qdot0)"
   ]
  }
 ],
 "metadata": {
  "kernelspec": {
   "display_name": "Python 3",
   "language": "python",
   "name": "python3"
  },
  "language_info": {
   "codemirror_mode": {
    "name": "ipython",
    "version": 3
   },
   "file_extension": ".py",
   "mimetype": "text/x-python",
   "name": "python",
   "nbconvert_exporter": "python",
   "pygments_lexer": "ipython3",
   "version": "3.6.10"
  }
 },
 "nbformat": 4,
 "nbformat_minor": 5
}
