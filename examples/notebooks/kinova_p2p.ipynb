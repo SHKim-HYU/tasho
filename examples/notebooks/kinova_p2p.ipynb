{
 "cells": [
  {
   "cell_type": "markdown",
   "id": "87bb3284",
   "metadata": {},
   "source": [
    "# TASHO - A model predictive control toolchain for constraint-based task specification of robot motions\n",
    "\n",
    "#### Presented by: Alejandro Astudillo and Ajay Sathya\n",
    "\n",
    "Tasho stands for “**TA**sk **S**pecification with receding **HO**rizon control”\n"
   ]
  },
  {
   "cell_type": "markdown",
   "id": "6c9a13c8",
   "metadata": {},
   "source": [
    "First, we need to import the relevant modules from Tasho and other dependencies (casadi, numpy)"
   ]
  },
  {
   "cell_type": "code",
   "execution_count": null,
   "id": "c07e9bee",
   "metadata": {},
   "outputs": [],
   "source": [
    "import os\n",
    "os.chdir(str(os.getcwd())+\"/../../\")\n",
    "\n",
    "\n",
    "from tasho import robot as rob\n",
    "\n",
    "from tasho import problem_template as pt\n",
    "from tasho import environment as env\n",
    "\n",
    "import casadi as cs\n",
    "from rockit import MultipleShooting, Ocp\n",
    "import numpy as np"
   ]
  },
  {
   "cell_type": "markdown",
   "id": "b307ed5b",
   "metadata": {},
   "source": [
    "## Set robot"
   ]
  },
  {
   "cell_type": "code",
   "execution_count": null,
   "id": "b201dc0b",
   "metadata": {},
   "outputs": [],
   "source": [
    "# Initial joint configuration\n",
    "q0_val = [0, -0.523598, 0, 2.51799, 0, -0.523598, 0]\n",
    "# Initial joint velocity\n",
    "q_dot0_val = [0]*7\n",
    "\n",
    "robot = rob.Robot('kinova')\n",
    "\n",
    "robot.set_joint_acceleration_limits(lb = -30*3.14159/180, ub = 30*3.14159/180)\n",
    "\n",
    "robot.set_state(q0_val + q_dot0_val)\n",
    "\n",
    "robot.set_robot_input_resolution(\"acceleration\")"
   ]
  },
  {
   "cell_type": "markdown",
   "id": "8b4affcf",
   "metadata": {},
   "source": [
    "## Set environment"
   ]
  },
  {
   "cell_type": "code",
   "execution_count": null,
   "id": "d936fdd1",
   "metadata": {},
   "outputs": [],
   "source": [
    "environment = env.Environment()\n",
    "\n",
    "cube1 = env.Cube(length = 1, position = [0.5, 0, 0.35], orientation = [0.0, 0.0, 0.0, 1.0], urdf = \"/models/objects/cube_small.urdf\")\n",
    "table1 = env.Box(height = 0.3, position = [0.5, 0, 0], orientation = [0.0, 0.0, 0.7071080798594737, 0.7071054825112364], urdf = \"/models/objects/table.urdf\")\n",
    "#table2 = env.Box(height = 0.3, position = [0,0.5, 0], orientation = [0.0, 0.0, 0.0, 1.0], urdf = \"/models/objects/table.urdf\")"
   ]
  },
  {
   "cell_type": "code",
   "execution_count": null,
   "id": "7d050bf0",
   "metadata": {},
   "outputs": [],
   "source": [
    "environment.add_object(cube1, \"cube\")\n",
    "environment.add_object(table1, \"table1\")\n",
    "#environment.add_object(table2, \"table2\")"
   ]
  },
  {
   "cell_type": "code",
   "execution_count": null,
   "id": "03b79463",
   "metadata": {},
   "outputs": [],
   "source": [
    "environment.print_objects()"
   ]
  },
  {
   "cell_type": "markdown",
   "id": "2addf0c9",
   "metadata": {},
   "source": [
    "## Task: Approximation to object"
   ]
  },
  {
   "cell_type": "code",
   "execution_count": null,
   "id": "55017df3",
   "metadata": {},
   "outputs": [],
   "source": [
    "horizon_size = 10\n",
    "t_mpc = 0.5\n",
    "\n",
    "T_goal = np.array([[0, 1, 0, 0.5], [1, 0, 0, 0], [0, 0, -1, 0.25], [0, 0, 0, 1]])  # T_goal = np.array([[0.0, 0., -1., 0.5], [0., 1., 0., 0.], [1.0, 0., 0.0, 0.5], [0.0, 0.0, 0.0, 1.0]]) # T_goal = np.array([[0., 0., -1., 0.5], [-1., 0., 0., 0.], [0., 1., 0.0, 0.5], [0.0, 0.0, 0.0, 1.0]]) # T_goal = np.array([[0., 1., 0., 0.5], [1., 0., 0., 0.], [0., 0., -1.0, 0.5], [0.0, 0.0, 0.0, 1.0]]) # T_goal = np.array([[0, 1, 0, 0], [1, 0, 0, -0.5], [0, 0, -1, 0.5], [0, 0, 0, 1]])\n",
    "\n",
    "approach_task = pt.Point2Point(horizon_size*t_mpc, horizon_steps = horizon_size, goal = T_goal)\n",
    "\n",
    "approach_task.add_robot(robot)"
   ]
  },
  {
   "cell_type": "markdown",
   "id": "84cd91ce",
   "metadata": {},
   "source": [
    "### Set parameter values"
   ]
  },
  {
   "cell_type": "code",
   "execution_count": null,
   "id": "1a3c5dc3",
   "metadata": {},
   "outputs": [],
   "source": [
    "approach_task.ocp.set_value( approach_task.parameters[\"q0\"], q0_val)\n",
    "approach_task.ocp.set_value( approach_task.parameters[\"q_dot0\"], q_dot0_val)"
   ]
  },
  {
   "cell_type": "markdown",
   "id": "cca8a9d5",
   "metadata": {},
   "source": [
    "### Solve task"
   ]
  },
  {
   "cell_type": "code",
   "execution_count": null,
   "id": "98191110",
   "metadata": {},
   "outputs": [],
   "source": [
    "sol = approach_task.solve_ocp()"
   ]
  },
  {
   "cell_type": "markdown",
   "id": "509d3a03",
   "metadata": {},
   "source": [
    "\n",
    "## Simulate plan execution\n"
   ]
  },
  {
   "cell_type": "code",
   "execution_count": null,
   "id": "c557ef75",
   "metadata": {},
   "outputs": [],
   "source": [
    "from tasho import world_simulator\n",
    "import pybullet as p\n",
    "\n",
    "obj = world_simulator.world_simulator()\n",
    "\n",
    "position = [0.0, 0.0, 0.0]\n",
    "orientation = [0.0, 0.0, 0.0, 1.0]\n",
    "\n",
    "robotID = obj.add_robot(position, orientation, 'kinova')\n",
    "joint_indices = [0, 1, 2, 3, 4, 5, 6]\n",
    "\n",
    "environment.set_in_world_simulator(obj)\n",
    "cubeID = obj.objectIDs[0]\n",
    "\n",
    "no_samples = int(t_mpc/obj.physics_ts)\n",
    "\n",
    "obj.resetJointState(robotID, joint_indices, q0_val)\n",
    "obj.setController(robotID, \"velocity\", joint_indices, targetVelocities = [0]*robot.ndof)\n",
    "obj.run_simulation(250) # Here, the robot is just waiting to start the task\n",
    "\n",
    "# Sample the solution for the next MPC execution\n",
    "ts, q_sol = sol.sample(approach_task.states[\"q\"], grid=\"control\")\n",
    "ts, qdot_sol = sol.sample(approach_task.states[\"q_dot\"], grid=\"control\")\n",
    "horizon_size = int(qdot_sol.size/robot.ndof - 1)\n",
    "\n",
    "for i in range(horizon_size):\n",
    "    q_vel_current = 0.5*(qdot_sol[i] + qdot_sol[i+1])\n",
    "    obj.setController(robotID, \"velocity\", joint_indices, targetVelocities = q_vel_current)\n",
    "    obj.run_simulation(no_samples)\n",
    "\n",
    "\n",
    "obj.run_simulation(100)\n",
    "\n",
    "obj.end_simulation()"
   ]
  },
  {
   "cell_type": "code",
   "execution_count": null,
   "id": "cb732c0a",
   "metadata": {},
   "outputs": [],
   "source": []
  }
 ],
 "metadata": {
  "kernelspec": {
   "display_name": "Python 3",
   "language": "python",
   "name": "python3"
  },
  "language_info": {
   "codemirror_mode": {
    "name": "ipython",
    "version": 3
   },
   "file_extension": ".py",
   "mimetype": "text/x-python",
   "name": "python",
   "nbconvert_exporter": "python",
   "pygments_lexer": "ipython3",
   "version": "3.6.10"
  }
 },
 "nbformat": 4,
 "nbformat_minor": 5
}
