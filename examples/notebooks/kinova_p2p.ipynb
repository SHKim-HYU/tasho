{
 "cells": [
  {
   "cell_type": "markdown",
   "id": "87bb3284",
   "metadata": {},
   "source": [
    "# TASHO - A model predictive control toolchain for constraint-based task specification of robot motions\n",
    "\n",
    "#### Presented by: Alejandro Astudillo and Ajay Sathya\n",
    "\n",
    "Tasho stands for “**TA**sk **S**pecification with receding **HO**rizon control”\n"
   ]
  },
  {
   "cell_type": "markdown",
   "id": "6c9a13c8",
   "metadata": {},
   "source": [
    "First, we need to import the relevant modules from Tasho and other dependencies (casadi, numpy)"
   ]
  },
  {
   "cell_type": "code",
   "execution_count": 1,
   "id": "c07e9bee",
   "metadata": {},
   "outputs": [],
   "source": [
    "import os\n",
    "os.chdir(str(os.getcwd())+\"/../../\")\n",
    "\n",
    "\n",
    "from tasho import robot as rob\n",
    "from tasho import discrete_plan as dp\n",
    "\n",
    "from tasho import problem_template as pt\n",
    "from tasho import environment as env\n",
    "\n",
    "import casadi as cs\n",
    "from rockit import MultipleShooting, Ocp\n",
    "import numpy as np"
   ]
  },
  {
   "cell_type": "markdown",
   "id": "8fc49402",
   "metadata": {},
   "source": [
    "## Instantiate plan"
   ]
  },
  {
   "cell_type": "code",
   "execution_count": 2,
   "id": "17510953",
   "metadata": {},
   "outputs": [],
   "source": [
    "plan = dp.DiscretePlan()"
   ]
  },
  {
   "cell_type": "markdown",
   "id": "b307ed5b",
   "metadata": {},
   "source": [
    "## Set robot"
   ]
  },
  {
   "cell_type": "code",
   "execution_count": 3,
   "id": "b201dc0b",
   "metadata": {},
   "outputs": [
    {
     "name": "stdout",
     "output_type": "stream",
     "text": [
      "Loading robot params from json ...\n",
      "Loaded 7-DoF robot: kinova\n"
     ]
    }
   ],
   "source": [
    "# Initial joint configuration\n",
    "q0_val = [0, -0.523598, 0, 2.51799, 0, -0.523598, 0]\n",
    "# Initial joint velocity\n",
    "q_dot0_val = [0]*7\n",
    "\n",
    "robot = rob.Robot('kinova')\n",
    "robot.set_joint_acceleration_limits(lb = -30*3.14159/180, ub = 30*3.14159/180)\n",
    "robot.set_state(q0_val + q_dot0_val)\n",
    "robot.set_robot_input_resolution(\"acceleration\")"
   ]
  },
  {
   "cell_type": "markdown",
   "id": "8b4affcf",
   "metadata": {},
   "source": [
    "## Set environment"
   ]
  },
  {
   "cell_type": "code",
   "execution_count": 4,
   "id": "d936fdd1",
   "metadata": {},
   "outputs": [],
   "source": [
    "environment = env.Environment()\n",
    "\n",
    "cube1 = env.Cube(length = 1, position = [0.5, 0, 0.35], orientation = [0.0, 0.0, 0.0, 1.0], urdf = \"/models/objects/cube_small.urdf\")\n",
    "table1 = env.Box(height = 0.3, position = [0.5, 0, 0], orientation = [0.0, 0.0, 0.7071080798594737, 0.7071054825112364], urdf = \"/models/objects/table.urdf\")\n",
    "table2 = env.Box(height = 0.3, position = [0,0.5, 0], orientation = [0.0, 0.0, 0.0, 1.0], urdf = \"/models/objects/table.urdf\")\n",
    "# table3 = env.Box(height = 0.3, position = [0,-0.5, 0], orientation = [0.0, 0.0, 0.0, 1.0], urdf = \"/models/objects/table.urdf\")"
   ]
  },
  {
   "cell_type": "code",
   "execution_count": 5,
   "id": "7d050bf0",
   "metadata": {},
   "outputs": [],
   "source": [
    "environment.add_object(cube1, \"cube\")\n",
    "environment.add_object(table1, \"table1\")\n",
    "environment.add_object(table2, \"table2\")\n",
    "# environment.add_object(table3, \"table3\")"
   ]
  },
  {
   "cell_type": "code",
   "execution_count": 6,
   "id": "03b79463",
   "metadata": {},
   "outputs": [
    {
     "name": "stdout",
     "output_type": "stream",
     "text": [
      "['cube', 'table1', 'table2']\n"
     ]
    }
   ],
   "source": [
    "environment.print_objects()"
   ]
  },
  {
   "cell_type": "code",
   "execution_count": 7,
   "id": "bf1f4a57",
   "metadata": {},
   "outputs": [],
   "source": [
    "plan.add_environment(environment)"
   ]
  },
  {
   "cell_type": "markdown",
   "id": "2addf0c9",
   "metadata": {},
   "source": [
    "## Task 1: Approximation to object"
   ]
  },
  {
   "cell_type": "code",
   "execution_count": 8,
   "id": "55017df3",
   "metadata": {},
   "outputs": [
    {
     "name": "stdout",
     "output_type": "stream",
     "text": [
      "Goal transformation matrix\n"
     ]
    }
   ],
   "source": [
    "horizon_size = 10\n",
    "t_mpc = 0.5\n",
    "\n",
    "T_goal = np.array([[0, 1, 0, 0.5], [1, 0, 0, 0], [0, 0, -1, 0.25], [0, 0, 0, 1]])  # T_goal = np.array([[0.0, 0., -1., 0.5], [0., 1., 0., 0.], [1.0, 0., 0.0, 0.5], [0.0, 0.0, 0.0, 1.0]]) # T_goal = np.array([[0., 0., -1., 0.5], [-1., 0., 0., 0.], [0., 1., 0.0, 0.5], [0.0, 0.0, 0.0, 1.0]]) # T_goal = np.array([[0., 1., 0., 0.5], [1., 0., 0., 0.], [0., 0., -1.0, 0.5], [0.0, 0.0, 0.0, 1.0]]) # T_goal = np.array([[0, 1, 0, 0], [1, 0, 0, -0.5], [0, 0, -1, 0.5], [0, 0, 0, 1]])\n",
    "\n",
    "approach_task = pt.Point2Point(horizon_size*t_mpc, horizon_steps = horizon_size, goal = T_goal)\n",
    "\n",
    "approach_task.add_robot(robot)"
   ]
  },
  {
   "cell_type": "markdown",
   "id": "acf39942",
   "metadata": {},
   "source": [
    "## Task 2: Picking the object up"
   ]
  },
  {
   "cell_type": "code",
   "execution_count": 9,
   "id": "4e26a714",
   "metadata": {},
   "outputs": [
    {
     "name": "stdout",
     "output_type": "stream",
     "text": [
      "Goal transformation matrix\n"
     ]
    }
   ],
   "source": [
    "horizon_size = 30\n",
    "t_mpc = 0.5\n",
    "\n",
    "# T_goal = np.array([[-1, 0, 0, 0], [0, 1, 0, 0.5], [0, 0, -1, 0.25], [0, 0, 0, 1]])\n",
    "# T_goal = np.array([[0, 0, 1, 0.5], [1, 0, 0, 0.2], [0, 1, 0, 0.5], [0, 0, 0, 1]])\n",
    "T_goal = np.array([[0, 1, 0, 0.4], [1, 0, 0, 0.15], [0, 0, -1, 0.25], [0, 0, 0, 1]])\n",
    "\n",
    "pickup_task = pt.Point2Point(time = horizon_size*t_mpc, horizon_steps = horizon_size, goal = T_goal)\n",
    "\n",
    "pickup_task.add_robot(robot)"
   ]
  },
  {
   "cell_type": "markdown",
   "id": "6c42f508",
   "metadata": {},
   "source": [
    "## Define discrete plan"
   ]
  },
  {
   "cell_type": "code",
   "execution_count": 10,
   "id": "b1c70e0a",
   "metadata": {},
   "outputs": [],
   "source": [
    "plan.add_task(approach_task, \"approach\")\n",
    "plan.add_task(pickup_task, \"pickup\")"
   ]
  },
  {
   "cell_type": "code",
   "execution_count": 12,
   "id": "36529975",
   "metadata": {},
   "outputs": [
    {
     "name": "stdout",
     "output_type": "stream",
     "text": [
      "['approach', 'pickup']\n"
     ]
    }
   ],
   "source": [
    "plan.print_tasks()"
   ]
  },
  {
   "cell_type": "markdown",
   "id": "84cd91ce",
   "metadata": {},
   "source": [
    "## Solve specific tasks in the plan"
   ]
  },
  {
   "cell_type": "code",
   "execution_count": 13,
   "id": "98191110",
   "metadata": {},
   "outputs": [],
   "source": [
    "# sol = plan.solve_task(task_name = \"approach\", q_init = q0_val)\n",
    "# sol_list = plan.solve_task(task_name = [\"approach\",\"pickup\"], q_init = q0_val)\n",
    "# sol_list = plan.execute_plan(q_init = q0_val)"
   ]
  },
  {
   "cell_type": "markdown",
   "id": "509d3a03",
   "metadata": {},
   "source": [
    "\n",
    "## Simulate plan execution\n"
   ]
  },
  {
   "cell_type": "code",
   "execution_count": 14,
   "id": "c557ef75",
   "metadata": {},
   "outputs": [
    {
     "name": "stdout",
     "output_type": "stream",
     "text": [
      "*********** THIS IS A CUBE ************\n",
      "*********** THIS IS A BOX ************\n",
      "*********** THIS IS A BOX ************\n",
      "[2, 3, 4]\n",
      "\n",
      "******************************************************************************\n",
      "This program contains Ipopt, a library for large-scale nonlinear optimization.\n",
      " Ipopt is released as open source code under the Eclipse Public License (EPL).\n",
      "         For more information visit http://projects.coin-or.org/Ipopt\n",
      "******************************************************************************\n",
      "\n",
      "This is Ipopt version 3.12.3, running with linear solver mumps.\n",
      "NOTE: Other linear solvers might be more efficient (see Ipopt documentation).\n",
      "\n",
      "Number of nonzeros in equality constraint Jacobian...:      530\n",
      "Number of nonzeros in inequality constraint Jacobian.:      234\n",
      "Number of nonzeros in Lagrangian Hessian.............:        0\n",
      "\n",
      "Total number of variables............................:      225\n",
      "                     variables with only lower bounds:        0\n",
      "                variables with lower and upper bounds:        0\n",
      "                     variables with only upper bounds:        0\n",
      "Total number of equality constraints.................:      165\n",
      "Total number of inequality constraints...............:      213\n",
      "        inequality constraints with only lower bounds:        0\n",
      "   inequality constraints with lower and upper bounds:      170\n",
      "        inequality constraints with only upper bounds:        3\n",
      "\n",
      "iter    objective    inf_pr   inf_du lg(mu)  ||d||  lg(rg) alpha_du alpha_pr  ls\n",
      "   0  4.5646231e-04 2.52e+00 1.69e-06   0.0 0.00e+00    -  0.00e+00 0.00e+00   0\n",
      "   1  4.5643565e-04 2.51e+00 3.39e+03  -1.9 2.52e+00    -  4.94e-01 4.93e-03h  1\n",
      "   2  1.4828386e-03 2.50e+00 4.33e+05   1.7 2.11e+03    -  5.20e-05 6.75e-04h  1\n",
      "   3  2.6234570e-03 1.72e+00 3.74e+05  -0.0 4.18e+00    -  6.95e-01 3.13e-01h  1\n",
      "   4  3.8964577e-03 4.96e-01 7.74e+04  -0.7 1.72e+00    -  7.96e-01 7.12e-01h  1\n",
      "   5  6.0008920e-03 6.07e-01 3.31e+01  -0.3 1.46e+00    -  4.54e-01 1.00e+00f  1\n",
      "   6  5.8242169e-03 5.15e-01 2.81e+01  -0.5 8.33e-01    -  1.00e+00 1.47e-01h  1\n",
      "   7  4.4242917e-03 2.89e-01 5.34e+01  -0.5 1.77e+00    -  3.09e-01 1.00e+00f  1\n",
      "   8  4.2876906e-03 3.90e-01 4.32e+01  -0.5 1.93e+00    -  1.00e+00 6.95e-01f  1\n",
      "   9  4.6066716e-03 2.83e-01 2.90e+01  -0.9 5.51e-01    -  9.97e-01 2.86e-01h  1\n",
      "iter    objective    inf_pr   inf_du lg(mu)  ||d||  lg(rg) alpha_du alpha_pr  ls\n",
      "  10  4.8648319e-03 2.22e-01 2.22e+01  -6.9 4.55e-01    -  3.67e-01 2.01e-01h  1\n",
      "  11  6.1129152e-03 4.52e-02 6.95e+00  -1.4 4.53e-01    -  1.00e+00 1.00e+00h  1\n",
      "  12  6.5877196e-03 6.18e-03 1.03e+00  -1.2 2.69e-01    -  9.18e-01 1.00e+00f  1\n",
      "  13  6.8214472e-03 1.39e-03 1.85e-01  -2.5 9.94e-02    -  9.95e-01 1.00e+00h  1\n",
      "  14  6.8855744e-03 5.11e-04 1.24e-01  -3.8 1.75e-02    -  1.00e+00 8.24e-01h  1\n",
      "  15  6.9129927e-03 1.25e-04 4.92e-02  -5.4 9.41e-03    -  1.00e+00 1.00e+00h  1\n",
      "  16  6.9135210e-03 2.33e-05 7.34e-03  -5.6 4.59e-03    -  1.00e+00 1.00e+00h  1\n",
      "  17  6.9058829e-03 3.78e-06 3.08e-03  -7.1 3.41e-03    -  1.00e+00 1.00e+00h  1\n",
      "  18  6.8884177e-03 4.20e-06 2.88e-01  -8.9 6.09e-03    -  1.00e+00 6.43e-01h  1\n",
      "  19  6.8080381e-03 1.82e-05 1.86e+00  -7.6 2.27e-02    -  3.56e-01 1.00e+00h  1\n",
      "iter    objective    inf_pr   inf_du lg(mu)  ||d||  lg(rg) alpha_du alpha_pr  ls\n",
      "  20  6.7845823e-03 1.77e-05 1.36e+00  -6.7 2.19e-02    -  1.00e+00 2.91e-01h  1\n",
      "  21  6.1334589e-03 7.94e-05 5.08e-02  -5.7 2.30e-01    -  1.00e+00 1.00e+00h  1\n",
      "  22  6.0088694e-03 7.40e-05 2.43e+00  -5.7 2.75e+00    -  2.50e-01 2.11e-02h  1\n",
      "  23  5.7541599e-03 8.40e-05 9.85e-01  -6.3 4.64e-01    -  1.00e+00 3.61e-01h  1\n",
      "  24  5.6580476e-03 1.24e-04 1.19e+00  -4.4 4.45e-01    -  7.41e-01 4.20e-01h  1\n",
      "  25  5.6467420e-03 7.56e-05 5.33e-01  -5.5 4.14e-02    -  1.00e+00 4.76e-01h  1\n",
      "  26  5.6379538e-03 6.87e-05 4.73e-01  -6.6 1.17e-01    -  1.68e-01 1.15e-01h  1\n",
      "  27  5.5933197e-03 2.92e-05 1.28e-03  -6.6 5.65e-02    -  1.00e+00 1.00e+00h  1\n",
      "  28  5.5894343e-03 1.04e-05 2.13e-02  -6.3 5.84e-02    -  1.00e+00 7.31e-01h  1\n",
      "  29  5.5880909e-03 1.04e-05 2.90e-01  -6.5 7.23e-02    -  1.00e+00 2.53e-01h  1\n",
      "iter    objective    inf_pr   inf_du lg(mu)  ||d||  lg(rg) alpha_du alpha_pr  ls\n",
      "  30  5.5898732e-03 7.44e-06 1.87e-01  -6.7 2.84e-02    -  1.00e+00 3.41e-01h  1\n",
      "  31  5.5908983e-03 5.48e-06 8.94e-02  -7.2 1.33e-02    -  1.00e+00 5.25e-01h  1\n",
      "  32  5.5954657e-03 1.30e-06 1.17e-03  -7.4 8.56e-03    -  1.00e+00 1.00e+00h  1\n",
      "  33  5.5972834e-03 6.59e-07 1.44e-02  -7.8 1.21e-02    -  1.00e+00 9.87e-01h  1\n",
      "  34  5.5974212e-03 5.18e-07 8.40e-01  -8.2 7.79e-03    -  1.00e+00 2.30e-01h  1\n",
      "  35  5.5979582e-03 2.58e-07 4.55e-05  -8.3 4.14e-03    -  3.54e-01 6.20e-01h  1\n",
      "\n",
      "Number of Iterations....: 35\n",
      "\n",
      "                                   (scaled)                 (unscaled)\n",
      "Objective...............:   5.5979582462487706e-03    5.5979582462487706e-03\n",
      "Dual infeasibility......:   4.5530833392411294e-05    4.5530833392411294e-05\n",
      "Constraint violation....:   2.5755466731558485e-07    2.5755466731558485e-07\n",
      "Complementarity.........:   8.6003856857651198e-09    8.6003856857651198e-09\n",
      "Overall NLP error.......:   4.5530833392411294e-05    4.5530833392411294e-05\n",
      "\n",
      "\n",
      "Number of objective function evaluations             = 36\n",
      "Number of objective gradient evaluations             = 36\n",
      "Number of equality constraint evaluations            = 36\n",
      "Number of inequality constraint evaluations          = 36\n",
      "Number of equality constraint Jacobian evaluations   = 36\n",
      "Number of inequality constraint Jacobian evaluations = 36\n",
      "Number of Lagrangian Hessian evaluations             = 0\n",
      "Total CPU secs in IPOPT (w/o function evaluations)   =      0.284\n",
      "Total CPU secs in NLP function evaluations           =      0.009\n",
      "\n",
      "EXIT: Optimal Solution Found.\n",
      "      solver  :   t_proc      (avg)   t_wall      (avg)    n_eval\n",
      "       nlp_f  |   2.25ms ( 62.44us)   1.74ms ( 48.25us)        36\n",
      "       nlp_g  |   1.34ms ( 37.25us)   1.33ms ( 37.00us)        36\n",
      "    nlp_grad  |  69.00us ( 69.00us)  68.65us ( 68.65us)         1\n",
      "  nlp_grad_f  |   3.33ms ( 89.97us)   3.24ms ( 87.63us)        37\n",
      "   nlp_jac_g  |   1.58ms ( 42.78us)   1.59ms ( 43.09us)        37\n",
      "       total  | 317.92ms (317.92ms) 153.98ms (153.98ms)         1\n",
      "**** Simulating task ****\n",
      "**** End of task simulation ****\n",
      "This is Ipopt version 3.12.3, running with linear solver mumps.\n",
      "NOTE: Other linear solvers might be more efficient (see Ipopt documentation).\n",
      "\n",
      "Number of nonzeros in equality constraint Jacobian...:     1510\n",
      "Number of nonzeros in inequality constraint Jacobian.:      654\n",
      "Number of nonzeros in Lagrangian Hessian.............:        0\n",
      "\n",
      "Total number of variables............................:      645\n",
      "                     variables with only lower bounds:        0\n",
      "                variables with lower and upper bounds:        0\n",
      "                     variables with only upper bounds:        0\n",
      "Total number of equality constraints.................:      445\n",
      "Total number of inequality constraints...............:      633\n",
      "        inequality constraints with only lower bounds:        0\n",
      "   inequality constraints with lower and upper bounds:      510\n",
      "        inequality constraints with only upper bounds:        3\n",
      "\n",
      "iter    objective    inf_pr   inf_du lg(mu)  ||d||  lg(rg) alpha_du alpha_pr  ls\n",
      "   0  1.3603818e-03 2.51e+00 1.82e-06   0.0 0.00e+00    -  0.00e+00 0.00e+00   0\n",
      "   1  1.3605322e-03 2.50e+00 2.72e+03  -1.9 2.51e+00    -  5.38e-01 4.93e-03h  1\n",
      "   2  2.3392760e-03 2.50e+00 4.45e+05   1.7 3.72e+03    -  2.29e-05 3.77e-04h  1\n",
      "   3  4.1958788e-03 1.79e+00 3.43e+05   0.2 4.08e+00    -  1.00e+00 2.85e-01h  1\n",
      "   4  8.6549973e-03 5.05e-01 8.30e+04  -5.8 1.79e+00    -  4.97e-01 7.18e-01h  1\n",
      "   5  8.7586802e-03 4.93e-01 7.78e+04   0.5 1.42e+00    -  1.00e+00 2.31e-02h  1\n",
      "   6  1.0980008e-02 2.55e-01 3.52e+04   1.4 1.84e+00    -  7.44e-02 4.83e-01h  1\n",
      "   7  1.0589898e-02 1.36e-01 1.97e+04   1.4 1.63e+00    -  1.00e+00 4.67e-01f  1\n",
      "   8  7.1337903e-03 4.61e-02 1.23e+02   1.1 7.83e-01    -  8.05e-01 1.00e+00f  1\n",
      "   9  7.2044980e-03 1.09e-02 1.79e+01  -0.7 4.71e-01    -  9.45e-01 9.80e-01h  1\n",
      "iter    objective    inf_pr   inf_du lg(mu)  ||d||  lg(rg) alpha_du alpha_pr  ls\n",
      "  10  7.0174377e-03 6.03e-03 1.46e+01  -6.0 1.39e-01    -  8.78e-01 1.00e+00h  1\n",
      "  11  6.9269931e-03 7.22e-04 1.93e+00  -1.8 4.35e-02    -  9.86e-01 1.00e+00h  1\n",
      "  12  6.8807038e-03 4.03e-04 7.88e-01  -3.0 1.01e-02    -  9.96e-01 9.00e-01h  1\n",
      "  13  6.8277746e-03 8.61e-05 2.02e-01  -4.5 1.18e-02    -  1.00e+00 1.00e+00h  1\n",
      "  14  6.7904504e-03 1.88e-05 4.90e-02  -6.0 5.88e-03    -  1.00e+00 1.00e+00h  1\n",
      "  15  6.7489221e-03 3.03e-06 8.48e-03  -7.7 4.98e-03    -  1.00e+00 1.00e+00h  1\n",
      "  16  6.5343149e-03 1.57e-05 7.72e+00  -5.5 2.80e-02    -  2.70e-01 1.00e+00h  1\n",
      "  17  6.5039115e-03 1.43e-05 6.87e+00 -11.0 3.24e-02    -  6.39e-01 1.21e-01h  1\n",
      "  18  6.4710804e-03 1.02e-05 4.72e+00  -6.8 1.46e-02    -  1.08e-01 3.58e-01h  1\n",
      "  19  6.4677082e-03 3.38e-06 6.95e-01  -7.4 1.60e-03    -  1.00e+00 8.55e-01h  1\n",
      "iter    objective    inf_pr   inf_du lg(mu)  ||d||  lg(rg) alpha_du alpha_pr  ls\n",
      "  20  6.4580667e-03 1.12e-06 3.38e-01  -9.1 1.66e-03    -  1.00e+00 8.48e-01h  1\n",
      "  21  6.4573617e-03 1.11e-06 3.25e-01 -11.0 5.17e-02    -  9.41e-03 2.07e-03h  1\n",
      "  22  6.4561616e-03 1.13e-06 3.65e-01  -9.2 4.22e+00    -  8.69e-04 4.32e-05h  1\n"
     ]
    },
    {
     "name": "stdout",
     "output_type": "stream",
     "text": [
      "  23  6.4494584e-03 1.13e-06 3.58e-01  -9.2 8.09e-01    -  1.89e-02 1.09e-03f  1\n",
      "  24  2.2795918e-03 3.37e-02 5.72e+00  -9.5 8.04e-01    -  2.16e-02 1.00e+00f  1\n",
      "  25  2.2672932e-03 3.36e-02 5.83e+00 -11.0 1.82e+00    -  1.66e-01 2.02e-03h  1\n",
      "  26  1.5377890e-03 3.39e-02 5.83e+00  -7.1 2.47e+03    -  1.34e-04 9.64e-05h  1\n",
      "  27  6.1630485e-04 3.64e-02 5.81e+00  -7.1 1.40e+03    -  3.17e-06 5.31e-04h  2\n",
      "  28  6.0624547e-04 3.64e-02 5.73e+00  -8.2 6.20e+00    -  1.74e-01 7.42e-04h  1\n",
      "  29  1.8383075e-04 3.40e-02 5.46e+00  -6.9 2.32e+00    -  6.48e-04 6.47e-02h  1\n",
      "iter    objective    inf_pr   inf_du lg(mu)  ||d||  lg(rg) alpha_du alpha_pr  ls\n",
      "  30  1.6786466e-04 3.40e-02 5.45e+00  -6.7 5.18e+01    -  2.97e-04 2.07e-03h  5\n",
      "  31  1.6709351e-04 3.40e-02 5.45e+00  -6.7 6.57e+02    -  3.47e-03 4.07e-05h  3\n",
      "  32  1.6681995e-04 3.40e-02 5.45e+00  -8.7 8.74e+01    -  8.96e-04 2.98e-04h  7\n",
      "  33  1.6601110e-04 3.40e-02 5.45e+00  -8.7 2.63e+02    -  7.95e-03 1.03e-04h  3\n",
      "  34  1.6607687e-04 3.26e-02 5.27e+00  -8.7 5.10e-02    -  1.15e-01 4.24e-02h  1\n",
      "  35  1.6716335e-04 2.50e-02 4.01e+00  -9.5 6.44e-02    -  1.00e+00 2.35e-01h  1\n",
      "  36  1.6855988e-04 1.74e-02 2.75e+00  -6.5 5.82e-02    -  1.00e+00 3.03e-01h  1\n",
      "  37  1.6954289e-04 1.38e-02 2.18e+00 -11.0 4.22e-02    -  1.98e-01 2.06e-01h  1\n",
      "  38  1.7183866e-04 9.06e-04 1.28e-03  -7.0 3.56e-02    -  1.00e+00 1.00e+00h  1\n",
      "  39  1.5542797e-04 2.04e-04 3.96e-04  -5.9 3.10e-02    -  1.00e+00 9.99e-01h  1\n",
      "iter    objective    inf_pr   inf_du lg(mu)  ||d||  lg(rg) alpha_du alpha_pr  ls\n",
      "  40  9.9370907e-05 1.88e-04 1.28e-04  -6.6 5.22e-02    -  1.00e+00 1.00e+00h  1\n",
      "  41  6.5417860e-05 1.17e-03 6.98e-03  -5.4 7.88e-02    -  5.76e-01 8.91e-01h  1\n",
      "  42  6.9400853e-05 9.80e-04 3.96e-03  -7.7 1.42e-01    -  8.04e-01 1.00e+00h  1\n",
      "  43  7.2480666e-05 6.85e-03 7.59e-02  -5.1 1.62e-01    -  1.00e+00 5.00e-01h  2\n",
      "  44  5.0390270e-05 1.65e-03 2.83e-03  -5.2 6.27e-02    -  1.00e+00 1.00e+00h  1\n",
      "  45  4.6811749e-05 4.82e-04 6.23e-04  -6.2 4.42e-02    -  1.00e+00 1.00e+00h  1\n",
      "  46  3.9070339e-05 2.67e-04 6.71e-04  -5.5 4.60e-02    -  1.00e+00 1.00e+00h  1\n",
      "  47  3.4189029e-05 1.19e-04 7.91e-03  -5.1 8.01e-02    -  9.14e-01 4.55e-01h  2\n",
      "  48  3.4568405e-05 2.10e-04 1.62e-04  -6.3 5.65e-02    -  1.00e+00 1.00e+00h  1\n",
      "  49  3.3511519e-05 9.30e-05 7.10e-03  -7.3 8.05e-02    -  9.68e-01 5.00e-01h  2\n",
      "iter    objective    inf_pr   inf_du lg(mu)  ||d||  lg(rg) alpha_du alpha_pr  ls\n",
      "  50  3.2767643e-05 8.73e-05 2.79e-02  -6.3 8.10e-02    -  1.00e+00 5.49e-02H  1\n",
      "  51  2.8817964e-05 2.18e-05 5.42e-04  -7.6 3.01e-02    -  9.86e-01 1.00e+00h  1\n",
      "\n",
      "Number of Iterations....: 51\n",
      "\n",
      "                                   (scaled)                 (unscaled)\n",
      "Objective...............:   2.8817963978551082e-05    2.8817963978551082e-05\n",
      "Dual infeasibility......:   5.4156295226627342e-04    5.4156295226627342e-04\n",
      "Constraint violation....:   2.1811528172710481e-05    2.1811528172710481e-05\n",
      "Complementarity.........:   1.2556217418596189e-07    1.2556217418596189e-07\n",
      "Overall NLP error.......:   5.4156295226627342e-04    5.4156295226627342e-04\n",
      "\n",
      "\n",
      "Number of objective function evaluations             = 83\n",
      "Number of objective gradient evaluations             = 52\n",
      "Number of equality constraint evaluations            = 83\n",
      "Number of inequality constraint evaluations          = 83\n",
      "Number of equality constraint Jacobian evaluations   = 52\n",
      "Number of inequality constraint Jacobian evaluations = 52\n",
      "Number of Lagrangian Hessian evaluations             = 0\n",
      "Total CPU secs in IPOPT (w/o function evaluations)   =      1.080\n",
      "Total CPU secs in NLP function evaluations           =      0.071\n",
      "\n",
      "EXIT: Optimal Solution Found.\n",
      "      solver  :   t_proc      (avg)   t_wall      (avg)    n_eval\n",
      "       nlp_f  |  12.31ms (148.28us)  12.17ms (146.66us)        83\n",
      "       nlp_g  |  14.02ms (168.93us)   5.86ms ( 70.65us)        83\n",
      "    nlp_grad  | 820.00us (820.00us) 817.37us (817.37us)         1\n",
      "  nlp_grad_f  |  24.91ms (470.08us)  16.89ms (318.76us)        53\n",
      "   nlp_jac_g  |  16.67ms (314.51us)   4.64ms ( 87.54us)        53\n",
      "       total  |   1.18 s (  1.18 s) 578.01ms (578.01ms)         1\n",
      "**** Simulating task ****\n",
      "**** End of task simulation ****\n"
     ]
    }
   ],
   "source": [
    "robot_q0 = robot.get_initial_conditions[0:robot.ndof]\n",
    "robot_qdot0 = robot.get_initial_conditions[robot.ndof:2*robot.ndof]\n",
    "\n",
    "plan.simulate_plan(simulator = \"bullet\", q_init = robot_q0, qdot_init = robot_qdot0)"
   ]
  },
  {
   "cell_type": "code",
   "execution_count": null,
   "id": "cb732c0a",
   "metadata": {},
   "outputs": [],
   "source": []
  }
 ],
 "metadata": {
  "kernelspec": {
   "display_name": "Python 3",
   "language": "python",
   "name": "python3"
  },
  "language_info": {
   "codemirror_mode": {
    "name": "ipython",
    "version": 3
   },
   "file_extension": ".py",
   "mimetype": "text/x-python",
   "name": "python",
   "nbconvert_exporter": "python",
   "pygments_lexer": "ipython3",
   "version": "3.6.10"
  }
 },
 "nbformat": 4,
 "nbformat_minor": 5
}
