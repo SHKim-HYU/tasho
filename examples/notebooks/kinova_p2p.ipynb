{
 "cells": [
  {
   "cell_type": "markdown",
   "id": "87bb3284",
   "metadata": {},
   "source": [
    "# TASHO - A model predictive control toolchain for constraint-based task specification of robot motions\n",
    "\n",
    "#### Presented by: Alejandro Astudillo and Ajay Sathya\n",
    "\n",
    "Tasho stands for “**TA**sk **S**pecification with receding **HO**rizon control”\n"
   ]
  },
  {
   "cell_type": "markdown",
   "id": "6c9a13c8",
   "metadata": {},
   "source": [
    "First, we need to import the relevant modules from Tasho and other dependencies (casadi, numpy)"
   ]
  },
  {
   "cell_type": "code",
   "execution_count": 1,
   "id": "c07e9bee",
   "metadata": {},
   "outputs": [],
   "source": [
    "import os\n",
    "os.chdir(str(os.getcwd())+\"/../../\")\n",
    "\n",
    "\n",
    "from tasho import robot as rob\n",
    "\n",
    "from tasho import problem_template as pt\n",
    "from tasho import environment as env\n",
    "\n",
    "import casadi as cs\n",
    "from rockit import MultipleShooting, Ocp\n",
    "import numpy as np"
   ]
  },
  {
   "cell_type": "markdown",
   "id": "b307ed5b",
   "metadata": {},
   "source": [
    "## Set robot"
   ]
  },
  {
   "cell_type": "code",
   "execution_count": 2,
   "id": "b201dc0b",
   "metadata": {},
   "outputs": [
    {
     "name": "stdout",
     "output_type": "stream",
     "text": [
      "Loading robot params from json ...\n",
      "Loaded 7-DoF robot: kinova\n"
     ]
    }
   ],
   "source": [
    "# Initial joint configuration\n",
    "q0_val = [0, -0.523598, 0, 2.51799, 0, -0.523598, 0]\n",
    "# Initial joint velocity\n",
    "q_dot0_val = [0]*7\n",
    "\n",
    "robot = rob.Robot('kinova')\n",
    "\n",
    "robot.set_joint_acceleration_limits(lb = -30*3.14159/180, ub = 30*3.14159/180)\n",
    "\n",
    "robot.set_state(q0_val + q_dot0_val)\n",
    "\n",
    "robot.set_robot_input_resolution(\"acceleration\")"
   ]
  },
  {
   "cell_type": "markdown",
   "id": "8b4affcf",
   "metadata": {},
   "source": [
    "## Set environment"
   ]
  },
  {
   "cell_type": "code",
   "execution_count": 3,
   "id": "d936fdd1",
   "metadata": {},
   "outputs": [],
   "source": [
    "environment = env.Environment()\n",
    "\n",
    "cube1 = env.Cube(length = 1, position = [0.5, 0, 0.35], orientation = [0.0, 0.0, 0.0, 1.0], urdf = \"/models/objects/cube_small.urdf\")\n",
    "table1 = env.Box(height = 0.3, position = [0.5, 0, 0], orientation = [0.0, 0.0, 0.7071080798594737, 0.7071054825112364], urdf = \"/models/objects/table.urdf\")\n",
    "#table2 = env.Box(height = 0.3, position = [0,0.5, 0], orientation = [0.0, 0.0, 0.0, 1.0], urdf = \"/models/objects/table.urdf\")"
   ]
  },
  {
   "cell_type": "code",
   "execution_count": 4,
   "id": "7d050bf0",
   "metadata": {},
   "outputs": [],
   "source": [
    "environment.add_object(cube1, \"cube\")\n",
    "environment.add_object(table1, \"table1\")\n",
    "#environment.add_object(table2, \"table2\")"
   ]
  },
  {
   "cell_type": "code",
   "execution_count": 5,
   "id": "03b79463",
   "metadata": {},
   "outputs": [
    {
     "name": "stdout",
     "output_type": "stream",
     "text": [
      "['cube', 'table1']\n"
     ]
    }
   ],
   "source": [
    "environment.print_objects()"
   ]
  },
  {
   "cell_type": "markdown",
   "id": "2addf0c9",
   "metadata": {},
   "source": [
    "## Task: Approximation to object"
   ]
  },
  {
   "cell_type": "code",
   "execution_count": 6,
   "id": "55017df3",
   "metadata": {},
   "outputs": [
    {
     "name": "stdout",
     "output_type": "stream",
     "text": [
      "Goal transformation matrix\n"
     ]
    }
   ],
   "source": [
    "horizon_size = 10\n",
    "t_mpc = 0.5\n",
    "\n",
    "T_goal = np.array([[0, 1, 0, 0.5], [1, 0, 0, 0], [0, 0, -1, 0.25], [0, 0, 0, 1]])  # T_goal = np.array([[0.0, 0., -1., 0.5], [0., 1., 0., 0.], [1.0, 0., 0.0, 0.5], [0.0, 0.0, 0.0, 1.0]]) # T_goal = np.array([[0., 0., -1., 0.5], [-1., 0., 0., 0.], [0., 1., 0.0, 0.5], [0.0, 0.0, 0.0, 1.0]]) # T_goal = np.array([[0., 1., 0., 0.5], [1., 0., 0., 0.], [0., 0., -1.0, 0.5], [0.0, 0.0, 0.0, 1.0]]) # T_goal = np.array([[0, 1, 0, 0], [1, 0, 0, -0.5], [0, 0, -1, 0.5], [0, 0, 0, 1]])\n",
    "\n",
    "approach_task = pt.Point2Point(horizon_size*t_mpc, horizon_steps = horizon_size, goal = T_goal)\n",
    "\n",
    "approach_task.add_robot(robot)"
   ]
  },
  {
   "cell_type": "markdown",
   "id": "84cd91ce",
   "metadata": {},
   "source": [
    "### Set parameter values"
   ]
  },
  {
   "cell_type": "code",
   "execution_count": 7,
   "id": "1a3c5dc3",
   "metadata": {},
   "outputs": [],
   "source": [
    "approach_task.ocp.set_value( approach_task.parameters[\"q0\"], q0_val)\n",
    "approach_task.ocp.set_value( approach_task.parameters[\"q_dot0\"], q_dot0_val)"
   ]
  },
  {
   "cell_type": "markdown",
   "id": "cca8a9d5",
   "metadata": {},
   "source": [
    "### Solve task"
   ]
  },
  {
   "cell_type": "code",
   "execution_count": 8,
   "id": "98191110",
   "metadata": {},
   "outputs": [
    {
     "name": "stdout",
     "output_type": "stream",
     "text": [
      "\n",
      "******************************************************************************\n",
      "This program contains Ipopt, a library for large-scale nonlinear optimization.\n",
      " Ipopt is released as open source code under the Eclipse Public License (EPL).\n",
      "         For more information visit http://projects.coin-or.org/Ipopt\n",
      "******************************************************************************\n",
      "\n",
      "This is Ipopt version 3.12.3, running with linear solver mumps.\n",
      "NOTE: Other linear solvers might be more efficient (see Ipopt documentation).\n",
      "\n",
      "Number of nonzeros in equality constraint Jacobian...:      530\n",
      "Number of nonzeros in inequality constraint Jacobian.:      234\n",
      "Number of nonzeros in Lagrangian Hessian.............:        0\n",
      "\n",
      "Total number of variables............................:      225\n",
      "                     variables with only lower bounds:        0\n",
      "                variables with lower and upper bounds:        0\n",
      "                     variables with only upper bounds:        0\n",
      "Total number of equality constraints.................:      165\n",
      "Total number of inequality constraints...............:      213\n",
      "        inequality constraints with only lower bounds:        0\n",
      "   inequality constraints with lower and upper bounds:      170\n",
      "        inequality constraints with only upper bounds:        3\n",
      "\n",
      "iter    objective    inf_pr   inf_du lg(mu)  ||d||  lg(rg) alpha_du alpha_pr  ls\n",
      "   0  4.5646231e-04 2.52e+00 1.69e-06   0.0 0.00e+00    -  0.00e+00 0.00e+00   0\n",
      "   1  4.5643565e-04 2.51e+00 3.39e+03  -1.9 2.52e+00    -  4.94e-01 4.93e-03h  1\n",
      "   2  1.4828386e-03 2.50e+00 4.33e+05   1.7 2.11e+03    -  5.20e-05 6.75e-04h  1\n",
      "   3  2.6234570e-03 1.72e+00 3.74e+05  -0.0 4.18e+00    -  6.95e-01 3.13e-01h  1\n",
      "   4  3.8964577e-03 4.96e-01 7.74e+04  -0.7 1.72e+00    -  7.96e-01 7.12e-01h  1\n",
      "   5  6.0008920e-03 6.07e-01 3.31e+01  -0.3 1.46e+00    -  4.54e-01 1.00e+00f  1\n",
      "   6  5.8242169e-03 5.15e-01 2.81e+01  -0.5 8.33e-01    -  1.00e+00 1.47e-01h  1\n",
      "   7  4.4242917e-03 2.89e-01 5.34e+01  -0.5 1.77e+00    -  3.09e-01 1.00e+00f  1\n",
      "   8  4.2876906e-03 3.90e-01 4.32e+01  -0.5 1.93e+00    -  1.00e+00 6.95e-01f  1\n",
      "   9  4.6066716e-03 2.83e-01 2.90e+01  -0.9 5.51e-01    -  9.97e-01 2.86e-01h  1\n",
      "iter    objective    inf_pr   inf_du lg(mu)  ||d||  lg(rg) alpha_du alpha_pr  ls\n",
      "  10  4.8648319e-03 2.22e-01 2.22e+01  -6.9 4.55e-01    -  3.67e-01 2.01e-01h  1\n",
      "  11  6.1129152e-03 4.52e-02 6.95e+00  -1.4 4.53e-01    -  1.00e+00 1.00e+00h  1\n",
      "  12  6.5877196e-03 6.18e-03 1.03e+00  -1.2 2.69e-01    -  9.18e-01 1.00e+00f  1\n",
      "  13  6.8214472e-03 1.39e-03 1.85e-01  -2.5 9.94e-02    -  9.95e-01 1.00e+00h  1\n",
      "  14  6.8855744e-03 5.11e-04 1.24e-01  -3.8 1.75e-02    -  1.00e+00 8.24e-01h  1\n",
      "  15  6.9129927e-03 1.25e-04 4.92e-02  -5.4 9.41e-03    -  1.00e+00 1.00e+00h  1\n",
      "  16  6.9135210e-03 2.33e-05 7.34e-03  -5.6 4.59e-03    -  1.00e+00 1.00e+00h  1\n",
      "  17  6.9058829e-03 3.78e-06 3.08e-03  -7.1 3.41e-03    -  1.00e+00 1.00e+00h  1\n",
      "  18  6.8884177e-03 4.20e-06 2.88e-01  -8.9 6.09e-03    -  1.00e+00 6.43e-01h  1\n",
      "  19  6.8080381e-03 1.82e-05 1.86e+00  -7.6 2.27e-02    -  3.56e-01 1.00e+00h  1\n",
      "iter    objective    inf_pr   inf_du lg(mu)  ||d||  lg(rg) alpha_du alpha_pr  ls\n",
      "  20  6.7845823e-03 1.77e-05 1.36e+00  -6.7 2.19e-02    -  1.00e+00 2.91e-01h  1\n",
      "  21  6.1334589e-03 7.94e-05 5.08e-02  -5.7 2.30e-01    -  1.00e+00 1.00e+00h  1\n",
      "  22  6.0088694e-03 7.40e-05 2.43e+00  -5.7 2.75e+00    -  2.50e-01 2.11e-02h  1\n",
      "  23  5.7541599e-03 8.40e-05 9.85e-01  -6.3 4.64e-01    -  1.00e+00 3.61e-01h  1\n",
      "  24  5.6580476e-03 1.24e-04 1.19e+00  -4.4 4.45e-01    -  7.41e-01 4.20e-01h  1\n",
      "  25  5.6467420e-03 7.56e-05 5.33e-01  -5.5 4.14e-02    -  1.00e+00 4.76e-01h  1\n",
      "  26  5.6379538e-03 6.87e-05 4.73e-01  -6.6 1.17e-01    -  1.68e-01 1.15e-01h  1\n",
      "  27  5.5933197e-03 2.92e-05 1.28e-03  -6.6 5.65e-02    -  1.00e+00 1.00e+00h  1\n",
      "  28  5.5894343e-03 1.04e-05 2.13e-02  -6.3 5.84e-02    -  1.00e+00 7.31e-01h  1\n",
      "  29  5.5880909e-03 1.04e-05 2.90e-01  -6.5 7.23e-02    -  1.00e+00 2.53e-01h  1\n",
      "iter    objective    inf_pr   inf_du lg(mu)  ||d||  lg(rg) alpha_du alpha_pr  ls\n",
      "  30  5.5898732e-03 7.44e-06 1.87e-01  -6.7 2.84e-02    -  1.00e+00 3.41e-01h  1\n",
      "  31  5.5908983e-03 5.48e-06 8.94e-02  -7.2 1.33e-02    -  1.00e+00 5.25e-01h  1\n",
      "  32  5.5954657e-03 1.30e-06 1.17e-03  -7.4 8.56e-03    -  1.00e+00 1.00e+00h  1\n",
      "  33  5.5972834e-03 6.59e-07 1.44e-02  -7.8 1.21e-02    -  1.00e+00 9.87e-01h  1\n",
      "  34  5.5974212e-03 5.18e-07 8.40e-01  -8.2 7.79e-03    -  1.00e+00 2.30e-01h  1\n",
      "  35  5.5979582e-03 2.58e-07 4.55e-05  -8.3 4.14e-03    -  3.54e-01 6.20e-01h  1\n",
      "\n",
      "Number of Iterations....: 35\n",
      "\n",
      "                                   (scaled)                 (unscaled)\n",
      "Objective...............:   5.5979582462487706e-03    5.5979582462487706e-03\n",
      "Dual infeasibility......:   4.5530833392411294e-05    4.5530833392411294e-05\n",
      "Constraint violation....:   2.5755466731558485e-07    2.5755466731558485e-07\n",
      "Complementarity.........:   8.6003856857651198e-09    8.6003856857651198e-09\n",
      "Overall NLP error.......:   4.5530833392411294e-05    4.5530833392411294e-05\n",
      "\n",
      "\n",
      "Number of objective function evaluations             = 36\n",
      "Number of objective gradient evaluations             = 36\n",
      "Number of equality constraint evaluations            = 36\n",
      "Number of inequality constraint evaluations          = 36\n",
      "Number of equality constraint Jacobian evaluations   = 36\n",
      "Number of inequality constraint Jacobian evaluations = 36\n",
      "Number of Lagrangian Hessian evaluations             = 0\n",
      "Total CPU secs in IPOPT (w/o function evaluations)   =      0.090\n",
      "Total CPU secs in NLP function evaluations           =      0.004\n",
      "\n",
      "EXIT: Optimal Solution Found.\n",
      "      solver  :   t_proc      (avg)   t_wall      (avg)    n_eval\n",
      "       nlp_f  | 753.00us ( 20.92us) 754.29us ( 20.95us)        36\n",
      "       nlp_g  | 452.00us ( 12.56us) 447.89us ( 12.44us)        36\n",
      "    nlp_grad  |  68.00us ( 68.00us)  67.74us ( 67.74us)         1\n",
      "  nlp_grad_f  |   1.56ms ( 42.22us)   1.53ms ( 41.31us)        37\n",
      "   nlp_jac_g  | 733.00us ( 19.81us) 736.63us ( 19.91us)        37\n",
      "       total  |  95.85ms ( 95.85ms)  94.07ms ( 94.07ms)         1\n"
     ]
    }
   ],
   "source": [
    "sol = approach_task.solve_ocp()"
   ]
  },
  {
   "cell_type": "markdown",
   "id": "509d3a03",
   "metadata": {},
   "source": [
    "\n",
    "## Simulate plan execution\n"
   ]
  },
  {
   "cell_type": "code",
   "execution_count": 9,
   "id": "c557ef75",
   "metadata": {},
   "outputs": [
    {
     "name": "stdout",
     "output_type": "stream",
     "text": [
      "Ending simulation\n"
     ]
    }
   ],
   "source": [
    "from tasho import world_simulator\n",
    "import pybullet as p\n",
    "\n",
    "obj = world_simulator.world_simulator()\n",
    "\n",
    "position = [0.0, 0.0, 0.0]\n",
    "orientation = [0.0, 0.0, 0.0, 1.0]\n",
    "\n",
    "robotID = obj.add_robot(position, orientation, 'kinova')\n",
    "joint_indices = [0, 1, 2, 3, 4, 5, 6]\n",
    "\n",
    "environment.set_in_world_simulator(obj)\n",
    "cubeID = obj.objectIDs[0]\n",
    "\n",
    "no_samples = int(t_mpc/obj.physics_ts)\n",
    "\n",
    "obj.resetJointState(robotID, joint_indices, q0_val)\n",
    "obj.setController(robotID, \"velocity\", joint_indices, targetVelocities = [0]*robot.ndof)\n",
    "obj.run_simulation(250) # Here, the robot is just waiting to start the task\n",
    "\n",
    "# Sample the solution for the next MPC execution\n",
    "ts, q_sol = sol.sample(approach_task.states[\"q\"], grid=\"control\")\n",
    "ts, qdot_sol = sol.sample(approach_task.states[\"q_dot\"], grid=\"control\")\n",
    "horizon_size = int(qdot_sol.size/robot.ndof - 1)\n",
    "\n",
    "for i in range(horizon_size):\n",
    "    q_vel_current = 0.5*(qdot_sol[i] + qdot_sol[i+1])\n",
    "    obj.setController(robotID, \"velocity\", joint_indices, targetVelocities = q_vel_current)\n",
    "    obj.run_simulation(no_samples)\n",
    "\n",
    "\n",
    "obj.run_simulation(100)\n",
    "\n",
    "obj.end_simulation()"
   ]
  },
  {
   "cell_type": "code",
   "execution_count": null,
   "id": "cb732c0a",
   "metadata": {},
   "outputs": [],
   "source": []
  }
 ],
 "metadata": {
  "kernelspec": {
   "display_name": "Python 3",
   "language": "python",
   "name": "python3"
  },
  "language_info": {
   "codemirror_mode": {
    "name": "ipython",
    "version": 3
   },
   "file_extension": ".py",
   "mimetype": "text/x-python",
   "name": "python",
   "nbconvert_exporter": "python",
   "pygments_lexer": "ipython3",
   "version": "3.6.10"
  }
 },
 "nbformat": 4,
 "nbformat_minor": 5
}
