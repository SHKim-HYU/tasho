{
 "cells": [
  {
   "cell_type": "markdown",
   "id": "87bb3284",
   "metadata": {},
   "source": [
    "# TASHO - A model predictive control toolchain for constraint-based task specification of robot motions\n",
    "\n",
    "#### Presented by: Alejandro Astudillo and Ajay Sathya\n",
    "\n",
    "Tasho stands for “**TA**sk **S**pecification with receding **HO**rizon control”\n"
   ]
  },
  {
   "cell_type": "markdown",
   "id": "6c9a13c8",
   "metadata": {},
   "source": [
    "\n",
    "| <img src=\"files/img/overview.svg\" width=\"800\"> | \n",
    "|:--:| \n",
    "| Fig. 1. Tasho's overview |\n",
    "\n",
    "  \n",
    "First, we need to import the relevant modules from Tasho and other dependencies (casadi, numpy)"
   ]
  },
  {
   "cell_type": "code",
   "execution_count": 1,
   "id": "c557ef75",
   "metadata": {},
   "outputs": [],
   "source": [
    "import os\n",
    "os.chdir(str(os.getcwd())+\"/../../\")\n",
    "\n",
    "import sys\n",
    "from tasho import task_prototype_rockit as tp\n",
    "from tasho import input_resolution\n",
    "from tasho import robot as rob\n",
    "from tasho import environment as env\n",
    "import casadi as cs\n",
    "from rockit import MultipleShooting, Ocp\n",
    "import numpy as np"
   ]
  },
  {
   "cell_type": "markdown",
   "id": "331b121b",
   "metadata": {},
   "source": [
    "## Robot model\n",
    "\n",
    "Import the robot object from the robot's repository"
   ]
  },
  {
   "cell_type": "code",
   "execution_count": 2,
   "id": "9af16307",
   "metadata": {},
   "outputs": [
    {
     "name": "stdout",
     "output_type": "stream",
     "text": [
      "Loading robot params from json ...\n",
      "Loaded 7-DoF robot: kinova\n"
     ]
    }
   ],
   "source": [
    "robot_choice = \"kinova\"\n",
    "# robot_choice = \"yumi\"\n",
    "# robot_choice = \"iiwa7\"\n",
    "# robot_choice = \"atlas\"\n",
    "# robot_choice = \"ur10\"\n",
    "\n",
    "robot = rob.Robot(robot_choice, analytical_derivatives=True)"
   ]
  },
  {
   "cell_type": "markdown",
   "id": "98153803",
   "metadata": {},
   "source": [
    "The robot object includes functions for forward dynamics, inverse dynamics, forward kinematics, and their derivatives, beside variables for joint limits and barycentric parameters."
   ]
  },
  {
   "cell_type": "markdown",
   "id": "574fd4d9",
   "metadata": {},
   "source": [
    "#### Forward dynamics:\n",
    "\n",
    "$\n",
    "\\ddot{\\mathbf{q}} = M^{-1}(\\mathbf{q})\\left(\\tau - C(\\mathbf{q}, \\dot{\\mathbf{q}})\\dot{\\mathbf{q}} - G(\\mathbf{q})\\right)\n",
    "$"
   ]
  },
  {
   "cell_type": "code",
   "execution_count": 3,
   "id": "f258153a",
   "metadata": {},
   "outputs": [
    {
     "name": "stdout",
     "output_type": "stream",
     "text": [
      "fd:(q[7],q_dot[7],tau[7])->(q_ddot[7]) SXFunction\n"
     ]
    }
   ],
   "source": [
    "FD = robot.fd\n",
    "print(FD)"
   ]
  },
  {
   "cell_type": "code",
   "execution_count": 4,
   "id": "73871bc2",
   "metadata": {},
   "outputs": [
    {
     "name": "stdout",
     "output_type": "stream",
     "text": [
      "jac_fd:(q[7],q_dot[7],tau[7])->(jac_fd[7x21]) SXFunction\n"
     ]
    }
   ],
   "source": [
    "J_FD = robot.J_fd\n",
    "print(J_FD)"
   ]
  },
  {
   "cell_type": "markdown",
   "id": "94904c8d",
   "metadata": {},
   "source": [
    "#### Inverse dynamics:\n",
    "$\n",
    "\\tau = M(\\mathbf{q}) + C(\\mathbf{q}, \\dot{\\mathbf{q}})\\dot{\\mathbf{q}} + G(\\mathbf{q})\n",
    "$"
   ]
  },
  {
   "cell_type": "code",
   "execution_count": 5,
   "id": "e0593afc",
   "metadata": {},
   "outputs": [
    {
     "name": "stdout",
     "output_type": "stream",
     "text": [
      "id:(q[7],q_dot[7],q_ddot[7])->(tau[7]) SXFunction\n"
     ]
    }
   ],
   "source": [
    "ID = robot.id\n",
    "print(ID)"
   ]
  },
  {
   "cell_type": "code",
   "execution_count": 6,
   "id": "5e47adbc",
   "metadata": {},
   "outputs": [
    {
     "name": "stdout",
     "output_type": "stream",
     "text": [
      "jac_id:(q[7],q_dot[7],q_ddot[7])->(jac_id[7x21]) SXFunction\n"
     ]
    }
   ],
   "source": [
    "J_ID = robot.J_id\n",
    "print(J_ID)"
   ]
  },
  {
   "cell_type": "markdown",
   "id": "28b9f0e1",
   "metadata": {},
   "source": [
    "#### Forward kinematics:"
   ]
  },
  {
   "cell_type": "code",
   "execution_count": 7,
   "id": "a916e5ec",
   "metadata": {},
   "outputs": [
    {
     "name": "stdout",
     "output_type": "stream",
     "text": [
      "fk_T:(q[7])->(T_Actuator1[4x4],T_Actuator2[4x4],T_Actuator3[4x4],T_Actuator4[4x4],T_Actuator5[4x4],T_Actuator6[4x4],T_Actuator7[4x4],T_EndEffector[4x4]) SXFunction\n"
     ]
    }
   ],
   "source": [
    "FK = robot.fk\n",
    "print(FK)"
   ]
  },
  {
   "cell_type": "markdown",
   "id": "45f09f17",
   "metadata": {},
   "source": [
    "#### Upper and lower bound on joint position:"
   ]
  },
  {
   "cell_type": "code",
   "execution_count": 8,
   "id": "5ef15dc4",
   "metadata": {},
   "outputs": [
    {
     "name": "stdout",
     "output_type": "stream",
     "text": [
      "Upper bound on q:  [inf, 2.2, inf, 2.5656, inf, 2.05, inf]\n"
     ]
    }
   ],
   "source": [
    "print(\"Upper bound on q: \",robot.joint_ub)"
   ]
  },
  {
   "cell_type": "code",
   "execution_count": 9,
   "id": "20d7e5de",
   "metadata": {},
   "outputs": [
    {
     "name": "stdout",
     "output_type": "stream",
     "text": [
      "Lower bound on q:  [-inf, -2.2, -inf, -2.5656, -inf, -2.05, -inf]\n"
     ]
    }
   ],
   "source": [
    "print(\"Lower bound on q: \",robot.joint_lb)"
   ]
  },
  {
   "cell_type": "markdown",
   "id": "c43c3422",
   "metadata": {},
   "source": [
    "#### Upper and lower bound on joint velocity:"
   ]
  },
  {
   "cell_type": "code",
   "execution_count": 10,
   "id": "97af3635",
   "metadata": {},
   "outputs": [
    {
     "name": "stdout",
     "output_type": "stream",
     "text": [
      "Upper bound on q_dot:  [0.8727, 0.8727, 0.8727, 0.8727, 0.8727, 0.8727, 0.8727]\n"
     ]
    }
   ],
   "source": [
    "print(\"Upper bound on q_dot: \",robot.joint_vel_ub)"
   ]
  },
  {
   "cell_type": "code",
   "execution_count": 11,
   "id": "4ebe1516",
   "metadata": {},
   "outputs": [
    {
     "name": "stdout",
     "output_type": "stream",
     "text": [
      "Lower bound on q_dot:  [-0.8727, -0.8727, -0.8727, -0.8727, -0.8727, -0.8727, -0.8727]\n"
     ]
    }
   ],
   "source": [
    "print(\"Lower bound on q_dot: \",robot.joint_vel_lb)"
   ]
  },
  {
   "cell_type": "markdown",
   "id": "9a09ef7c",
   "metadata": {},
   "source": [
    "#### Upper and lower bound on joint torque:"
   ]
  },
  {
   "cell_type": "code",
   "execution_count": 12,
   "id": "dc478db6",
   "metadata": {},
   "outputs": [
    {
     "name": "stdout",
     "output_type": "stream",
     "text": [
      "Upper bound on tau:  [39, 39, 39, 39, 9, 9, 9]\n"
     ]
    }
   ],
   "source": [
    "print(\"Upper bound on tau: \",robot.joint_torque_ub)"
   ]
  },
  {
   "cell_type": "code",
   "execution_count": 13,
   "id": "00464cb2",
   "metadata": {},
   "outputs": [
    {
     "name": "stdout",
     "output_type": "stream",
     "text": [
      "Lower bound on tau:  [-39, -39, -39, -39, -9, -9, -9]\n"
     ]
    }
   ],
   "source": [
    "print(\"Lower bound on tau: \",robot.joint_torque_lb)"
   ]
  },
  {
   "cell_type": "markdown",
   "id": "c206a43a",
   "metadata": {},
   "source": [
    "#### Upper and lower bound on joint acceleration:"
   ]
  },
  {
   "cell_type": "code",
   "execution_count": 14,
   "id": "aa70cd8d",
   "metadata": {},
   "outputs": [
    {
     "name": "stdout",
     "output_type": "stream",
     "text": [
      "Upper bound on q_ddot:  None\n"
     ]
    }
   ],
   "source": [
    "print(\"Upper bound on q_ddot: \",robot.joint_acc_ub)"
   ]
  },
  {
   "cell_type": "code",
   "execution_count": 15,
   "id": "f99dd72f",
   "metadata": {},
   "outputs": [
    {
     "name": "stdout",
     "output_type": "stream",
     "text": [
      "Lower bound on q_ddot:  None\n"
     ]
    }
   ],
   "source": [
    "print(\"Lower bound on q_ddot: \",robot.joint_acc_lb)"
   ]
  },
  {
   "cell_type": "markdown",
   "id": "47941d86",
   "metadata": {},
   "source": [
    "#### Update robot's parameters if needed"
   ]
  },
  {
   "cell_type": "code",
   "execution_count": 16,
   "id": "183bdfe4",
   "metadata": {},
   "outputs": [],
   "source": [
    "ocp_control = \"acceleration_resolved\"\n",
    "# ocp_control = \"torque_resolved\"\n",
    "\n",
    "if ocp_control == \"acceleration_resolved\":\n",
    "    max_joint_acc = 240 * cs.pi / 180\n",
    "    robot.set_joint_acceleration_limits(lb=[-max_joint_acc]*robot.ndof, ub=[max_joint_acc]*robot.ndof)\n",
    "    "
   ]
  },
  {
   "cell_type": "code",
   "execution_count": 17,
   "id": "3b0ff298",
   "metadata": {},
   "outputs": [
    {
     "name": "stdout",
     "output_type": "stream",
     "text": [
      "Upper bound on q_ddot:  [4.1887902047863905, 4.1887902047863905, 4.1887902047863905, 4.1887902047863905, 4.1887902047863905, 4.1887902047863905, 4.1887902047863905]\n"
     ]
    }
   ],
   "source": [
    "print(\"Upper bound on q_ddot: \",robot.joint_acc_ub)"
   ]
  },
  {
   "cell_type": "code",
   "execution_count": 18,
   "id": "448a484c",
   "metadata": {},
   "outputs": [
    {
     "name": "stdout",
     "output_type": "stream",
     "text": [
      "Lower bound on q_ddot:  [-4.1887902047863905, -4.1887902047863905, -4.1887902047863905, -4.1887902047863905, -4.1887902047863905, -4.1887902047863905, -4.1887902047863905]\n"
     ]
    }
   ],
   "source": [
    "print(\"Lower bound on q_ddot: \",robot.joint_acc_lb)"
   ]
  },
  {
   "cell_type": "markdown",
   "id": "33bc03c3",
   "metadata": {},
   "source": [
    "## Task spacification"
   ]
  },
  {
   "cell_type": "code",
   "execution_count": 22,
   "id": "5e11faa2",
   "metadata": {},
   "outputs": [],
   "source": [
    "# Define initial conditions of the robot\n",
    "if robot_choice == \"yumi\":\n",
    "    left_arm_q_init = [-1.35, -3.72e-01, 2.18, 0.78e-01, 2.08, -9.76e-01, -1.71, 1.65e-03, 1.65e-03]\n",
    "    # Right arm in home configuration\n",
    "    right_arm_q_init = [0, -2.26, -2.35, 0.52, 0.025, 0.749, 0, 0, 0]\n",
    "\n",
    "    q_init = np.array(left_arm_q_init + right_arm_q_init).T\n",
    "elif robot_choice == \"kinova\":\n",
    "    q_init = [0, -0.523598, 0, 2.51799, 0, -0.523598, -1.5708]\n",
    "q_dot_init = [0] * robot.ndof"
   ]
  },
  {
   "cell_type": "markdown",
   "id": "67bf2456",
   "metadata": {},
   "source": [
    "Select prediction horizon and sample time for the MPC execution"
   ]
  },
  {
   "cell_type": "code",
   "execution_count": 23,
   "id": "cb4a474b",
   "metadata": {},
   "outputs": [],
   "source": [
    "horizon_size = 20\n",
    "t_mpc = 0.1"
   ]
  },
  {
   "cell_type": "markdown",
   "id": "8cec00d0",
   "metadata": {},
   "source": [
    "Initialize the task context object"
   ]
  },
  {
   "cell_type": "code",
   "execution_count": 24,
   "id": "5b20d9af",
   "metadata": {},
   "outputs": [],
   "source": [
    "tc = tp.task_context(horizon_size * t_mpc, horizon_steps = horizon_size)"
   ]
  },
  {
   "cell_type": "markdown",
   "id": "d646eba5",
   "metadata": {},
   "source": [
    "Define the input type of the robot (torque or acceleration)"
   ]
  },
  {
   "cell_type": "code",
   "execution_count": 25,
   "id": "173f0143",
   "metadata": {},
   "outputs": [],
   "source": [
    "q, q_dot, q_ddot, q0, q_dot0 = input_resolution.acceleration_resolved(tc, robot)"
   ]
  },
  {
   "cell_type": "markdown",
   "id": "eb886801",
   "metadata": {},
   "source": [
    "Add object of interest for the robot (in this case a cube + 0.05 m in $z$-direction)"
   ]
  },
  {
   "cell_type": "code",
   "execution_count": 26,
   "id": "a26798c2",
   "metadata": {},
   "outputs": [],
   "source": [
    "cube_pos = tc.create_expression(\"cube_pos\", \"parameter\", (3, 1))\n",
    "T_goal = cs.vertcat(\n",
    "    cs.hcat([0, 1, 0, cube_pos[0]]),\n",
    "    cs.hcat([1, 0, 0, cube_pos[1]]),\n",
    "    cs.hcat([0, 0, -1, cube_pos[2]]),\n",
    "    cs.hcat([0, 0, 0, 1]),\n",
    ")"
   ]
  },
  {
   "cell_type": "markdown",
   "id": "c69fe43b",
   "metadata": {},
   "source": [
    "Define constraints at the end of the horizon (final ee position and final joint velocity)"
   ]
  },
  {
   "cell_type": "code",
   "execution_count": 27,
   "id": "107c1599",
   "metadata": {},
   "outputs": [],
   "source": [
    "T_ee = robot.fk(q)[7]\n",
    "\n",
    "final_pos = {\n",
    "    \"hard\": False,\n",
    "    \"type\": \"Frame\",\n",
    "    \"expression\": T_ee,\n",
    "    \"reference\": T_goal,\n",
    "    \"rot_gain\": 10,\n",
    "    \"trans_gain\": 10,\n",
    "    \"norm\": \"L1\",\n",
    "}\n",
    "final_vel = {\"hard\": True, \"expression\": q_dot, \"reference\": 0}\n",
    "final_constraints = {\"final_constraints\": [final_pos, final_vel]}\n",
    "tc.add_task_constraint(final_constraints)"
   ]
  },
  {
   "cell_type": "markdown",
   "id": "69c88152",
   "metadata": {},
   "source": [
    "Add penality terms on joint velocity and acceleration for regulatization"
   ]
  },
  {
   "cell_type": "code",
   "execution_count": 28,
   "id": "4a8cd44b",
   "metadata": {},
   "outputs": [],
   "source": [
    "tc.add_regularization(\n",
    "    expression=q_dot, weight=1e-3, norm=\"L2\", variable_type=\"state\", reference=0\n",
    ")\n",
    "tc.add_regularization(\n",
    "    expression=q_ddot, weight=1e-3, norm=\"L2\", variable_type=\"control\", reference=0\n",
    ")"
   ]
  },
  {
   "cell_type": "markdown",
   "id": "e9a5081e",
   "metadata": {},
   "source": [
    "Set solver and discretization options"
   ]
  },
  {
   "cell_type": "code",
   "execution_count": 29,
   "id": "907bee72",
   "metadata": {},
   "outputs": [],
   "source": [
    "tc.set_ocp_solver(\n",
    "    \"ipopt\",\n",
    "    {\n",
    "        \"ipopt\": {\n",
    "            \"print_level\": 0,\n",
    "            \"tol\": 1e-3,\n",
    "        }\n",
    "    },\n",
    ")"
   ]
  },
  {
   "cell_type": "code",
   "execution_count": 30,
   "id": "d93f6b89",
   "metadata": {},
   "outputs": [],
   "source": [
    "disc_settings = {\n",
    "    \"discretization method\": \"multiple shooting\",\n",
    "    \"horizon size\": horizon_size,\n",
    "    \"order\": 1,\n",
    "    \"integration\": \"rk\",\n",
    "}\n",
    "tc.set_discretization_settings(disc_settings)"
   ]
  },
  {
   "cell_type": "markdown",
   "id": "70bcab20",
   "metadata": {},
   "source": [
    "Set parameter values"
   ]
  },
  {
   "cell_type": "code",
   "execution_count": 31,
   "id": "8944bf64",
   "metadata": {},
   "outputs": [],
   "source": [
    "tc.ocp.set_value(cube_pos, [0.5, 0, 0.25])\n",
    "tc.ocp.set_value(q0, q_init)\n",
    "tc.ocp.set_value(q_dot0, q_dot_init)"
   ]
  },
  {
   "cell_type": "markdown",
   "id": "f4509211",
   "metadata": {},
   "source": [
    "Solve the OCP that describes the task"
   ]
  },
  {
   "cell_type": "code",
   "execution_count": 32,
   "id": "429d6c13",
   "metadata": {},
   "outputs": [
    {
     "name": "stdout",
     "output_type": "stream",
     "text": [
      "\n",
      "******************************************************************************\n",
      "This program contains Ipopt, a library for large-scale nonlinear optimization.\n",
      " Ipopt is released as open source code under the Eclipse Public License (EPL).\n",
      "         For more information visit http://projects.coin-or.org/Ipopt\n",
      "******************************************************************************\n",
      "\n",
      "      solver  :   t_proc      (avg)   t_wall      (avg)    n_eval\n",
      "       nlp_f  |  92.00us (  3.41us)  92.00us (  3.41us)        27\n",
      "       nlp_g  | 421.00us ( 15.59us) 421.63us ( 15.62us)        27\n",
      "    nlp_grad  |  35.00us ( 35.00us)  34.42us ( 34.42us)         1\n",
      "  nlp_grad_f  | 144.00us (  5.76us) 146.46us (  5.86us)        25\n",
      "  nlp_hess_l  | 482.00us ( 20.96us) 481.66us ( 20.94us)        23\n",
      "   nlp_jac_g  | 593.00us ( 23.72us) 598.73us ( 23.95us)        25\n",
      "       total  |  51.33ms ( 51.33ms)  56.47ms ( 56.47ms)         1\n"
     ]
    }
   ],
   "source": [
    "sol = tc.solve_ocp()"
   ]
  },
  {
   "cell_type": "markdown",
   "id": "8efecf1f",
   "metadata": {},
   "source": [
    "\n",
    "## MPC Simulation\n",
    "\n",
    "Create world simulator based on pybullet"
   ]
  },
  {
   "cell_type": "code",
   "execution_count": 33,
   "id": "1dc16145",
   "metadata": {},
   "outputs": [],
   "source": [
    "from tasho import world_simulator\n",
    "import pybullet as p\n",
    "\n",
    "obj = world_simulator.world_simulator()"
   ]
  },
  {
   "cell_type": "markdown",
   "id": "8bf4092c",
   "metadata": {},
   "source": [
    "Add robot to the world environment"
   ]
  },
  {
   "cell_type": "code",
   "execution_count": 34,
   "id": "d3d08654",
   "metadata": {},
   "outputs": [],
   "source": [
    "position = [0.0, 0.0, 0.0]\n",
    "orientation = [0.0, 0.0, 0.0, 1.0]\n",
    "robotID = obj.add_robot(position, orientation, robot_choice)"
   ]
  },
  {
   "cell_type": "markdown",
   "id": "56fb510a",
   "metadata": {},
   "source": [
    "Define world environment"
   ]
  },
  {
   "cell_type": "code",
   "execution_count": 35,
   "id": "33304bc1",
   "metadata": {},
   "outputs": [],
   "source": [
    "environment = env.Environment()"
   ]
  },
  {
   "cell_type": "markdown",
   "id": "f0aeecf3",
   "metadata": {},
   "source": [
    "Add cube to the environment"
   ]
  },
  {
   "cell_type": "code",
   "execution_count": 36,
   "id": "3851ab38",
   "metadata": {},
   "outputs": [],
   "source": [
    "cube1 = env.Cube(length = 1, position = [0.5, -0.2, 0.35], orientation = [0.0, 0.0, 0.0, 1.0], urdf = \"/models/objects/cube_small.urdf\")\n",
    "environment.add_object(cube1, \"cube\")"
   ]
  },
  {
   "cell_type": "markdown",
   "id": "60c7a1f3",
   "metadata": {},
   "source": [
    "Add table to the environment"
   ]
  },
  {
   "cell_type": "code",
   "execution_count": 37,
   "id": "dd0a5791",
   "metadata": {},
   "outputs": [],
   "source": [
    "table1 = env.Box(height = 0.3, position = [0.5, 0, 0], orientation = [0.0, 0.0, 0.7071080798594737, 0.7071054825112364], urdf = \"/models/objects/table.urdf\")\n",
    "environment.add_object(table1, \"table1\")"
   ]
  },
  {
   "cell_type": "markdown",
   "id": "310801f1",
   "metadata": {},
   "source": [
    "Add environment to world simulator"
   ]
  },
  {
   "cell_type": "code",
   "execution_count": 38,
   "id": "b67b22bd",
   "metadata": {},
   "outputs": [],
   "source": [
    "environment.set_in_world_simulator(obj)"
   ]
  },
  {
   "cell_type": "markdown",
   "id": "9e2e3610",
   "metadata": {},
   "source": [
    "Update initial velocity of the cube"
   ]
  },
  {
   "cell_type": "code",
   "execution_count": 39,
   "id": "41e68478",
   "metadata": {},
   "outputs": [],
   "source": [
    "cubeID = environment.get_object_ID(\"cube\")\n",
    "p.resetBaseVelocity(cubeID, linearVelocity=[0, 0.7, 0])"
   ]
  },
  {
   "cell_type": "markdown",
   "id": "80be9c3e",
   "metadata": {},
   "source": [
    "Determine number of samples that the simulation should be executed"
   ]
  },
  {
   "cell_type": "code",
   "execution_count": 40,
   "id": "4b6a0e2f",
   "metadata": {},
   "outputs": [],
   "source": [
    "no_samples = int(t_mpc / obj.physics_ts)"
   ]
  },
  {
   "cell_type": "markdown",
   "id": "01f9f55d",
   "metadata": {},
   "source": [
    "Correspondence between joint numbers in bullet and OCP"
   ]
  },
  {
   "cell_type": "code",
   "execution_count": 41,
   "id": "ddcdf9ff",
   "metadata": {},
   "outputs": [],
   "source": [
    "if robot_choice == \"yumi\":\n",
    "    joint_indices = [11, 12, 13, 14, 15, 16, 17, 18, 19, 1, 2, 3, 4, 5, 6, 7, 8, 9]\n",
    "elif robot_choice == \"kinova\":\n",
    "    joint_indices = [0, 1, 2, 3, 4, 5, 6]"
   ]
  },
  {
   "cell_type": "markdown",
   "id": "140f7ecb",
   "metadata": {},
   "source": [
    "Begin the visualization by applying the initial control signal"
   ]
  },
  {
   "cell_type": "code",
   "execution_count": 43,
   "id": "4e3a13a0",
   "metadata": {},
   "outputs": [],
   "source": [
    "ts, q_sol = sol.sample(q, grid=\"control\")\n",
    "ts, q_dot_sol = sol.sample(q_dot, grid=\"control\")\n",
    "obj.resetJointState(robotID, joint_indices, q_init)\n",
    "obj.setController(\n",
    "    robotID, \"velocity\", joint_indices, targetVelocities=q_dot_sol[0]\n",
    ")"
   ]
  },
  {
   "cell_type": "markdown",
   "id": "8560b6b9",
   "metadata": {},
   "source": [
    "Execute the MPC loop"
   ]
  },
  {
   "cell_type": "code",
   "execution_count": 44,
   "id": "caa7dc9b",
   "metadata": {},
   "outputs": [
    {
     "name": "stdout",
     "output_type": "stream",
     "text": [
      "----------- MPC execution -----------\n",
      "Predicted position of cube [0.5, 0.29069900142653, 0.45]\n",
      "      solver  :   t_proc      (avg)   t_wall      (avg)    n_eval\n",
      "       nlp_f  | 215.00us ( 11.32us) 219.52us ( 11.55us)        19\n",
      "       nlp_g  |   5.13ms (270.26us)   1.13ms ( 59.40us)        19\n",
      "    nlp_grad  |  41.00us ( 41.00us)  41.30us ( 41.30us)         1\n",
      "  nlp_grad_f  | 343.00us ( 17.15us) 344.40us ( 17.22us)        20\n",
      "  nlp_hess_l  | 976.00us ( 54.22us) 970.65us ( 53.93us)        18\n",
      "   nlp_jac_g  |   1.43ms ( 71.40us)   1.42ms ( 70.91us)        20\n",
      "       total  | 172.77ms (172.77ms)  83.42ms ( 83.42ms)         1\n",
      "Distance = 0.41364454736187\n",
      "----------- MPC execution -----------\n",
      "Predicted position of cube [0.5, 1.0321548034461, -1.2361169188309]\n",
      "      solver  :   t_proc      (avg)   t_wall      (avg)    n_eval\n",
      "       nlp_f  |  97.00us (  6.93us) 100.17us (  7.15us)        14\n",
      "       nlp_g  | 589.00us ( 42.07us) 584.16us ( 41.73us)        14\n",
      "    nlp_grad  |  59.00us ( 59.00us)  59.13us ( 59.13us)         1\n",
      "  nlp_grad_f  | 262.00us ( 17.47us) 261.78us ( 17.45us)        15\n",
      "  nlp_hess_l  |   4.71ms (361.92us) 710.67us ( 54.67us)        13\n",
      "   nlp_jac_g  |   1.61ms (107.47us)   1.41ms ( 93.78us)        15\n",
      "       total  |  95.72ms ( 95.72ms)  46.86ms ( 46.86ms)         1\n",
      "Distance = 2.071751750646\n",
      "----------- MPC execution -----------\n",
      "Predicted position of cube [0.49999870116384, 0.29471520430458, 0.32156073334529]\n",
      "      solver  :   t_proc      (avg)   t_wall      (avg)    n_eval\n",
      "       nlp_f  | 135.00us (  7.94us) 136.87us (  8.05us)        17\n",
      "       nlp_g  | 836.00us ( 49.18us) 733.21us ( 43.13us)        17\n",
      "    nlp_grad  |  41.00us ( 41.00us)  41.73us ( 41.73us)         1\n",
      "  nlp_grad_f  | 246.00us ( 13.67us) 245.29us ( 13.63us)        18\n",
      "  nlp_hess_l  | 776.00us ( 48.50us) 779.68us ( 48.73us)        16\n",
      "   nlp_jac_g  |   1.09ms ( 60.44us)   1.08ms ( 59.93us)        18\n",
      "       total  | 120.93ms (120.93ms)  60.23ms ( 60.23ms)         1\n",
      "Distance = 0.43354862952895\n",
      "----------- MPC execution -----------\n",
      "Predicted position of cube [0.49999876514159, 0.28403279291389, 0.31357173361789]\n",
      "      solver  :   t_proc      (avg)   t_wall      (avg)    n_eval\n",
      "       nlp_f  | 136.00us (  8.00us) 139.94us (  8.23us)        17\n",
      "       nlp_g  | 660.00us ( 38.82us) 654.45us ( 38.50us)        17\n",
      "    nlp_grad  | 153.00us (153.00us) 153.33us (153.33us)         1\n",
      "  nlp_grad_f  | 271.00us ( 16.94us) 272.80us ( 17.05us)        16\n",
      "  nlp_hess_l  | 656.00us ( 46.86us) 660.52us ( 47.18us)        14\n",
      "   nlp_jac_g  |   1.05ms ( 65.50us)   1.06ms ( 66.31us)        16\n",
      "       total  | 105.65ms (105.65ms)  51.01ms ( 51.01ms)         1\n",
      "Distance = 0.40492538124798\n",
      "----------- MPC execution -----------\n",
      "Predicted position of cube [0.49999879681736, 0.28071569482174, 0.31262018094108]\n",
      "      solver  :   t_proc      (avg)   t_wall      (avg)    n_eval\n",
      "       nlp_f  | 138.00us ( 10.62us) 136.58us ( 10.51us)        13\n",
      "       nlp_g  | 615.00us ( 47.31us) 609.33us ( 46.87us)        13\n",
      "    nlp_grad  |  40.00us ( 40.00us)  40.43us ( 40.43us)         1\n",
      "  nlp_grad_f  | 205.00us ( 14.64us) 208.43us ( 14.89us)        14\n",
      "  nlp_hess_l  | 593.00us ( 49.42us) 592.35us ( 49.36us)        12\n",
      "   nlp_jac_g  | 902.00us ( 64.43us) 891.89us ( 63.71us)        14\n",
      "       total  |  83.78ms ( 83.78ms)  42.05ms ( 42.05ms)         1\n",
      "Distance = 0.37829604551842\n",
      "----------- MPC execution -----------\n",
      "Predicted position of cube [0.49999882215052, 0.27882491358752, 0.31250544391188]\n",
      "      solver  :   t_proc      (avg)   t_wall      (avg)    n_eval\n",
      "       nlp_f  |  99.00us (  8.25us)  99.70us (  8.31us)        12\n",
      "       nlp_g  | 568.00us ( 47.33us) 559.81us ( 46.65us)        12\n",
      "    nlp_grad  |  55.00us ( 55.00us)  55.57us ( 55.57us)         1\n",
      "  nlp_grad_f  | 220.00us ( 16.92us) 221.49us ( 17.04us)        13\n",
      "  nlp_hess_l  | 422.00us ( 38.36us) 422.58us ( 38.42us)        11\n",
      "   nlp_jac_g  |   1.55ms (118.92us) 843.65us ( 64.90us)        13\n",
      "       total  |  83.48ms ( 83.48ms)  41.32ms ( 41.32ms)         1\n",
      "Distance = 0.35233315288248\n",
      "----------- MPC execution -----------\n",
      "Predicted position of cube [0.49999884402095, 0.27753273304175, 0.31249173159519]\n",
      "      solver  :   t_proc      (avg)   t_wall      (avg)    n_eval\n",
      "       nlp_f  | 102.00us (  9.27us) 101.70us (  9.25us)        11\n",
      "       nlp_g  | 505.00us ( 45.91us) 501.53us ( 45.59us)        11\n",
      "    nlp_grad  |  51.00us ( 51.00us)  51.09us ( 51.09us)         1\n",
      "  nlp_grad_f  | 156.00us ( 13.00us) 152.92us ( 12.74us)        12\n",
      "  nlp_hess_l  | 476.00us ( 47.60us) 475.26us ( 47.53us)        10\n",
      "   nlp_jac_g  | 530.00us ( 44.17us) 531.67us ( 44.31us)        12\n",
      "       total  |  78.09ms ( 78.09ms)  37.29ms ( 37.29ms)         1\n",
      "Distance = 0.32696495882664\n",
      "----------- MPC execution -----------\n",
      "Predicted position of cube [0.49999886528738, 0.27665308353685, 0.31249003112142]\n",
      "      solver  :   t_proc      (avg)   t_wall      (avg)    n_eval\n",
      "       nlp_f  | 169.00us ( 16.90us) 166.56us ( 16.66us)        10\n",
      "       nlp_g  | 774.00us ( 77.40us) 776.02us ( 77.60us)        10\n",
      "    nlp_grad  |  42.00us ( 42.00us)  41.85us ( 41.85us)         1\n",
      "  nlp_grad_f  | 242.00us ( 22.00us) 238.14us ( 21.65us)        11\n",
      "  nlp_hess_l  | 578.00us ( 64.22us) 579.15us ( 64.35us)         9\n",
      "   nlp_jac_g  |   1.03ms ( 93.73us)   1.01ms ( 91.98us)        11\n",
      "       total  | 115.33ms (115.33ms)  56.90ms ( 56.90ms)         1\n",
      "Distance = 0.30230540151846\n",
      "----------- MPC execution -----------\n",
      "Predicted position of cube [0.49999888862577, 0.27608646137356, 0.31248987145558]\n",
      "      solver  :   t_proc      (avg)   t_wall      (avg)    n_eval\n",
      "       nlp_f  |  71.00us (  7.10us)  70.67us (  7.07us)        10\n",
      "       nlp_g  | 359.00us ( 35.90us) 355.52us ( 35.55us)        10\n",
      "    nlp_grad  |  42.00us ( 42.00us)  42.45us ( 42.45us)         1\n",
      "  nlp_grad_f  | 141.00us ( 12.82us) 141.52us ( 12.87us)        11\n",
      "  nlp_hess_l  | 396.00us ( 44.00us) 398.36us ( 44.26us)         9\n",
      "   nlp_jac_g  | 580.00us ( 52.73us) 586.07us ( 53.28us)        11\n",
      "       total  |  71.90ms ( 71.90ms)  34.58ms ( 34.58ms)         1\n",
      "Distance = 0.27837933187405\n",
      "----------- MPC execution -----------\n",
      "Predicted position of cube [0.49999896924139, 0.27575310037405, 0.31248842493483]\n",
      "      solver  :   t_proc      (avg)   t_wall      (avg)    n_eval\n",
      "       nlp_f  |  89.00us (  8.90us)  88.97us (  8.90us)        10\n",
      "       nlp_g  | 490.00us ( 49.00us) 387.16us ( 38.72us)        10\n",
      "    nlp_grad  |  70.00us ( 70.00us)  70.31us ( 70.31us)         1\n",
      "  nlp_grad_f  | 146.00us ( 13.27us) 147.79us ( 13.44us)        11\n",
      "  nlp_hess_l  |   8.36ms (928.44us) 361.79us ( 40.20us)         9\n",
      "   nlp_jac_g  | 541.00us ( 49.18us) 549.52us ( 49.96us)        11\n",
      "       total  |  62.59ms ( 62.59ms)  28.82ms ( 28.82ms)         1\n",
      "Distance = 0.25528077182173\n",
      "----------- MPC execution -----------\n",
      "Predicted position of cube [0.49971681496347, 0.34889945727149, 0.21954566715772]\n",
      "      solver  :   t_proc      (avg)   t_wall      (avg)    n_eval\n",
      "       nlp_f  | 114.00us ( 10.36us) 114.20us ( 10.38us)        11\n",
      "       nlp_g  | 481.00us ( 43.73us) 461.75us ( 41.98us)        11\n",
      "    nlp_grad  | 118.00us (118.00us) 117.21us (117.21us)         1\n",
      "  nlp_grad_f  | 200.00us ( 16.67us) 198.07us ( 16.51us)        12\n",
      "  nlp_hess_l  | 498.00us ( 49.80us) 499.44us ( 49.94us)        10\n",
      "   nlp_jac_g  |   1.34ms (111.75us) 773.28us ( 64.44us)        12\n",
      "       total  |  88.94ms ( 88.94ms)  43.08ms ( 43.08ms)         1\n",
      "Distance = 0.34527300724035\n",
      "----------- MPC execution -----------\n",
      "Predicted position of cube [0.4991572746915, 0.62732210552684, -1.3219673532524]\n",
      "      solver  :   t_proc      (avg)   t_wall      (avg)    n_eval\n",
      "       nlp_f  | 117.00us (  9.00us) 114.74us (  8.83us)        13\n",
      "       nlp_g  | 422.00us ( 32.46us) 415.35us ( 31.95us)        13\n",
      "    nlp_grad  |  39.00us ( 39.00us)  38.46us ( 38.46us)         1\n",
      "  nlp_grad_f  | 209.00us ( 14.93us) 210.39us ( 15.03us)        14\n",
      "  nlp_hess_l  | 521.00us ( 43.42us) 521.52us ( 43.46us)        12\n",
      "   nlp_jac_g  | 861.00us ( 61.50us) 863.90us ( 61.71us)        14\n",
      "       total  |  82.42ms ( 82.42ms)  41.21ms ( 41.21ms)         1\n",
      "Distance = 1.8233603615433\n",
      "----------- MPC execution -----------\n",
      "Predicted position of cube [0.48506701223652, 0.55719420437325, -0.18892913861305]\n",
      "      solver  :   t_proc      (avg)   t_wall      (avg)    n_eval\n",
      "       nlp_f  | 169.00us (  7.68us) 172.19us (  7.83us)        22\n",
      "       nlp_g  | 844.00us ( 38.36us) 838.37us ( 38.11us)        22\n",
      "    nlp_grad  |  60.00us ( 60.00us)  61.24us ( 61.24us)         1\n",
      "  nlp_grad_f  | 316.00us ( 15.05us) 318.46us ( 15.16us)        21\n",
      "  nlp_hess_l  | 837.00us ( 44.05us) 775.27us ( 40.80us)        19\n",
      "   nlp_jac_g  |   1.30ms ( 61.95us)   1.26ms ( 60.21us)        21\n",
      "       total  | 132.61ms (132.61ms)  65.16ms ( 65.16ms)         1\n"
     ]
    },
    {
     "name": "stdout",
     "output_type": "stream",
     "text": [
      "Distance = 0.74034064994777\n",
      "----------- MPC execution -----------\n",
      "Predicted position of cube [0.49382765704006, 0.40339461330263, 0.12618520754639]\n",
      "      solver  :   t_proc      (avg)   t_wall      (avg)    n_eval\n",
      "       nlp_f  | 159.00us ( 11.36us) 163.88us ( 11.71us)        14\n",
      "       nlp_g  | 821.00us ( 58.64us) 816.14us ( 58.30us)        14\n",
      "    nlp_grad  |  39.00us ( 39.00us)  39.39us ( 39.39us)         1\n",
      "  nlp_grad_f  |   4.34ms (289.33us) 331.62us ( 22.11us)        15\n",
      "  nlp_hess_l  | 685.00us ( 52.69us) 668.44us ( 51.42us)        13\n",
      "   nlp_jac_g  |   1.17ms ( 78.27us)   1.17ms ( 78.01us)        15\n",
      "       total  |  97.76ms ( 97.76ms)  47.06ms ( 47.06ms)         1\n",
      "Distance = 0.37009034265717\n",
      "----------- MPC execution -----------\n",
      "Predicted position of cube [0.49410392662072, 0.40074266210388, 0.12511150937398]\n",
      "      solver  :   t_proc      (avg)   t_wall      (avg)    n_eval\n",
      "       nlp_f  |  87.00us (  8.70us)  85.33us (  8.53us)        10\n",
      "       nlp_g  | 400.00us ( 40.00us) 397.57us ( 39.76us)        10\n",
      "    nlp_grad  |  47.00us ( 47.00us)  47.32us ( 47.32us)         1\n",
      "  nlp_grad_f  | 203.00us ( 18.45us) 204.54us ( 18.59us)        11\n",
      "  nlp_hess_l  | 377.00us ( 41.89us) 378.20us ( 42.02us)         9\n",
      "   nlp_jac_g  | 744.00us ( 67.64us) 746.15us ( 67.83us)        11\n",
      "       total  |  66.94ms ( 66.94ms)  33.38ms ( 33.38ms)         1\n",
      "Distance = 0.33923557549136\n",
      "----------- MPC execution -----------\n",
      "Predicted position of cube [0.4942431837605, 0.39951862219618, 0.12500106668584]\n",
      "      solver  :   t_proc      (avg)   t_wall      (avg)    n_eval\n",
      "       nlp_f  | 109.00us ( 10.90us) 108.08us ( 10.81us)        10\n",
      "       nlp_g  | 476.00us ( 47.60us) 437.85us ( 43.79us)        10\n",
      "    nlp_grad  | 104.00us (104.00us) 104.04us (104.04us)         1\n",
      "  nlp_grad_f  | 123.00us ( 11.18us) 122.77us ( 11.16us)        11\n",
      "  nlp_hess_l  |   4.33ms (480.78us) 322.54us ( 35.84us)         9\n",
      "   nlp_jac_g  | 487.00us ( 44.27us) 490.23us ( 44.57us)        11\n",
      "       total  |  64.62ms ( 64.62ms)  30.63ms ( 30.63ms)         1\n",
      "Distance = 0.30991706741072\n",
      "----------- MPC execution -----------\n",
      "Predicted position of cube [0.4943323277114, 0.39875795068383, 0.12499085852747]\n",
      "      solver  :   t_proc      (avg)   t_wall      (avg)    n_eval\n",
      "       nlp_f  |  97.00us (  9.70us)  94.77us (  9.48us)        10\n",
      "       nlp_g  | 396.00us ( 39.60us) 394.91us ( 39.49us)        10\n",
      "    nlp_grad  |  37.00us ( 37.00us)  37.22us ( 37.22us)         1\n",
      "  nlp_grad_f  | 105.00us (  9.55us) 106.19us (  9.65us)        11\n",
      "  nlp_hess_l  | 350.00us ( 38.89us) 350.65us ( 38.96us)         9\n",
      "   nlp_jac_g  | 430.00us ( 39.09us) 433.90us ( 39.45us)        11\n",
      "       total  |  51.91ms ( 51.91ms)  27.18ms ( 27.18ms)         1\n",
      "Distance = 0.28206094457402\n",
      "----------- MPC execution -----------\n",
      "Predicted position of cube [0.49438816972967, 0.39829085492341, 0.12499000935692]\n",
      "      solver  :   t_proc      (avg)   t_wall      (avg)    n_eval\n",
      "       nlp_f  |  87.00us (  9.67us)  87.30us (  9.70us)         9\n",
      "       nlp_g  | 334.00us ( 37.11us) 330.56us ( 36.73us)         9\n",
      "    nlp_grad  |  77.00us ( 77.00us)  76.27us ( 76.27us)         1\n",
      "  nlp_grad_f  | 137.00us ( 13.70us) 138.43us ( 13.84us)        10\n",
      "  nlp_hess_l  | 329.00us ( 41.13us) 330.05us ( 41.26us)         8\n",
      "   nlp_jac_g  | 485.00us ( 48.50us) 486.68us ( 48.67us)        10\n",
      "       total  |  56.31ms ( 56.31ms)  27.79ms ( 27.79ms)         1\n",
      "Distance = 0.25573705865023\n",
      "----------- MPC execution -----------\n",
      "Predicted position of cube [0.49440059865953, 0.39803024926752, 0.12498998257816]\n",
      "      solver  :   t_proc      (avg)   t_wall      (avg)    n_eval\n",
      "       nlp_f  |  96.00us ( 10.67us)  96.84us ( 10.76us)         9\n",
      "       nlp_g  | 335.00us ( 37.22us) 329.49us ( 36.61us)         9\n",
      "    nlp_grad  |  64.00us ( 64.00us)  63.87us ( 63.87us)         1\n",
      "  nlp_grad_f  | 821.00us ( 82.10us) 175.88us ( 17.59us)        10\n",
      "  nlp_hess_l  | 323.00us ( 40.38us) 323.31us ( 40.41us)         8\n",
      "   nlp_jac_g  | 557.00us ( 55.70us) 563.06us ( 56.31us)        10\n",
      "       total  |  58.05ms ( 58.05ms)  28.05ms ( 28.05ms)         1\n",
      "Distance = 0.2311362191689\n",
      "----------- MPC execution -----------\n",
      "Predicted position of cube [0.49440308338504, 0.39795498164206, 0.12498935772178]\n",
      "      solver  :   t_proc      (avg)   t_wall      (avg)    n_eval\n",
      "       nlp_f  |  87.00us (  9.67us)  90.88us ( 10.10us)         9\n",
      "       nlp_g  | 322.00us ( 35.78us) 323.12us ( 35.90us)         9\n",
      "    nlp_grad  |  52.00us ( 52.00us)  52.64us ( 52.64us)         1\n",
      "  nlp_grad_f  | 133.00us ( 13.30us) 130.98us ( 13.10us)        10\n",
      "  nlp_hess_l  | 362.00us ( 45.25us) 362.39us ( 45.30us)         8\n",
      "   nlp_jac_g  |   4.49ms (449.50us) 513.12us ( 51.31us)        10\n",
      "       total  |  63.69ms ( 63.69ms)  30.81ms ( 30.81ms)         1\n",
      "Distance = 0.2084061739465\n",
      "----------- MPC execution -----------\n",
      "Predicted position of cube [0.49440265604326, 0.39795578739957, 0.12498852081268]\n",
      "      solver  :   t_proc      (avg)   t_wall      (avg)    n_eval\n",
      "       nlp_f  |  91.00us ( 11.38us)  91.43us ( 11.43us)         8\n",
      "       nlp_g  | 340.00us ( 42.50us) 336.18us ( 42.02us)         8\n",
      "    nlp_grad  | 124.00us (124.00us) 124.04us (124.04us)         1\n",
      "  nlp_grad_f  | 144.00us ( 16.00us) 143.27us ( 15.92us)         9\n",
      "  nlp_hess_l  | 301.00us ( 43.00us) 300.64us ( 42.95us)         7\n",
      "   nlp_jac_g  | 554.00us ( 61.56us) 557.70us ( 61.97us)         9\n",
      "       total  |  53.88ms ( 53.88ms)  25.36ms ( 25.36ms)         1\n",
      "Distance = 0.18744723918777\n",
      "----------- MPC execution -----------\n",
      "Predicted position of cube [0.49440262153719, 0.39795589548135, 0.12498840762987]\n",
      "      solver  :   t_proc      (avg)   t_wall      (avg)    n_eval\n",
      "       nlp_f  | 451.00us ( 56.38us)  79.83us (  9.98us)         8\n",
      "       nlp_g  | 426.00us ( 53.25us) 422.18us ( 52.77us)         8\n",
      "    nlp_grad  | 140.00us (140.00us) 140.68us (140.68us)         1\n",
      "  nlp_grad_f  | 148.00us ( 16.44us) 148.05us ( 16.45us)         9\n",
      "  nlp_hess_l  | 386.00us ( 55.14us) 391.34us ( 55.91us)         7\n",
      "   nlp_jac_g  | 532.00us ( 59.11us) 533.66us ( 59.30us)         9\n",
      "       total  |  49.51ms ( 49.51ms)  24.47ms ( 24.47ms)         1\n",
      "Distance = 0.16852760586392\n",
      "----------- MPC execution -----------\n",
      "Predicted position of cube [0.49440261699501, 0.39795591005161, 0.12498839236677]\n",
      "      solver  :   t_proc      (avg)   t_wall      (avg)    n_eval\n",
      "       nlp_f  |  55.00us (  6.88us)  56.14us (  7.02us)         8\n",
      "       nlp_g  | 272.00us ( 34.00us) 269.44us ( 33.68us)         8\n",
      "    nlp_grad  |  38.00us ( 38.00us)  37.93us ( 37.93us)         1\n",
      "  nlp_grad_f  | 103.00us ( 11.44us)  99.82us ( 11.09us)         9\n",
      "  nlp_hess_l  | 202.00us ( 28.86us) 203.09us ( 29.01us)         7\n",
      "   nlp_jac_g  | 395.00us ( 43.89us) 395.67us ( 43.96us)         9\n",
      "       total  |  54.12ms ( 54.12ms)  25.45ms ( 25.45ms)         1\n",
      "Distance = 0.15181345473095\n",
      "----------- MPC execution -----------\n",
      "Predicted position of cube [0.49440261638316, 0.39795591201594, 0.124988390309]\n",
      "      solver  :   t_proc      (avg)   t_wall      (avg)    n_eval\n",
      "       nlp_f  |  94.00us ( 11.75us)  91.21us ( 11.40us)         8\n",
      "       nlp_g  | 300.00us ( 37.50us) 299.18us ( 37.40us)         8\n",
      "    nlp_grad  |  38.00us ( 38.00us)  38.20us ( 38.20us)         1\n",
      "  nlp_grad_f  | 152.00us ( 16.89us) 151.52us ( 16.84us)         9\n",
      "  nlp_hess_l  | 925.00us (132.14us) 484.77us ( 69.25us)         7\n",
      "   nlp_jac_g  | 492.00us ( 54.67us) 493.48us ( 54.83us)         9\n",
      "       total  |  72.03ms ( 72.03ms)  34.98ms ( 34.98ms)         1\n",
      "Distance = 0.13699908160927\n",
      "----------- MPC execution -----------\n",
      "Predicted position of cube [0.49440261630068, 0.39795591228076, 0.12498839003158]\n",
      "      solver  :   t_proc      (avg)   t_wall      (avg)    n_eval\n",
      "       nlp_f  |  96.00us ( 12.00us)  96.96us ( 12.12us)         8\n",
      "       nlp_g  | 370.00us ( 46.25us) 367.61us ( 45.95us)         8\n",
      "    nlp_grad  |  39.00us ( 39.00us)  38.69us ( 38.69us)         1\n",
      "  nlp_grad_f  | 167.00us ( 18.56us) 164.12us ( 18.24us)         9\n",
      "  nlp_hess_l  | 334.00us ( 47.71us) 334.81us ( 47.83us)         7\n",
      "   nlp_jac_g  | 513.00us ( 57.00us) 514.24us ( 57.14us)         9\n",
      "       total  |  54.43ms ( 54.43ms)  27.13ms ( 27.13ms)         1\n",
      "Distance = 0.12384515585852\n",
      "----------- MPC execution -----------\n",
      "Predicted position of cube [0.49440261628956, 0.39795591231647, 0.12498838999418]\n",
      "      solver  :   t_proc      (avg)   t_wall      (avg)    n_eval\n",
      "       nlp_f  |  81.00us ( 10.13us)  80.28us ( 10.04us)         8\n",
      "       nlp_g  |   4.38ms (548.00us) 384.67us ( 48.08us)         8\n",
      "    nlp_grad  |  45.00us ( 45.00us)  44.63us ( 44.63us)         1\n",
      "  nlp_grad_f  | 126.00us ( 14.00us) 126.93us ( 14.10us)         9\n",
      "  nlp_hess_l  | 390.00us ( 55.71us) 394.01us ( 56.29us)         7\n",
      "   nlp_jac_g  | 474.00us ( 52.67us) 478.59us ( 53.18us)         9\n",
      "       total  |  57.50ms ( 57.50ms)  27.72ms ( 27.72ms)         1\n"
     ]
    },
    {
     "name": "stdout",
     "output_type": "stream",
     "text": [
      "Distance = 0.11198656371486\n",
      "----------- MPC execution -----------\n",
      "Predicted position of cube [0.49440261628806, 0.39795591232128, 0.12498838998914]\n",
      "      solver  :   t_proc      (avg)   t_wall      (avg)    n_eval\n",
      "       nlp_f  |  78.00us (  9.75us)  74.60us (  9.33us)         8\n",
      "       nlp_g  | 257.00us ( 32.12us) 254.44us ( 31.81us)         8\n",
      "    nlp_grad  |  40.00us ( 40.00us)  40.39us ( 40.39us)         1\n",
      "  nlp_grad_f  | 107.00us ( 11.89us) 105.73us ( 11.75us)         9\n",
      "  nlp_hess_l  | 291.00us ( 41.57us) 294.01us ( 42.00us)         7\n",
      "   nlp_jac_g  |   4.41ms (490.44us) 413.87us ( 45.99us)         9\n",
      "       total  |  49.60ms ( 49.60ms)  25.16ms ( 25.16ms)         1\n",
      "Distance = 0.10113791597667\n",
      "----------- MPC execution -----------\n",
      "Predicted position of cube [0.49440261628786, 0.39795591232193, 0.12498838998846]\n",
      "      solver  :   t_proc      (avg)   t_wall      (avg)    n_eval\n",
      "       nlp_f  |  59.00us (  7.38us)  60.22us (  7.53us)         8\n",
      "       nlp_g  | 232.00us ( 29.00us) 230.04us ( 28.76us)         8\n",
      "    nlp_grad  |  37.00us ( 37.00us)  37.67us ( 37.67us)         1\n",
      "  nlp_grad_f  | 114.00us ( 12.67us) 114.74us ( 12.75us)         9\n",
      "  nlp_hess_l  |   4.38ms (625.14us) 387.52us ( 55.36us)         7\n",
      "   nlp_jac_g  | 460.00us ( 51.11us) 466.05us ( 51.78us)         9\n",
      "       total  |  53.83ms ( 53.83ms)  25.12ms ( 25.12ms)         1\n",
      "Distance = 0.09124791031988\n",
      "----------- MPC execution -----------\n",
      "Predicted position of cube [0.49440261628783, 0.39795591232202, 0.12498838998837]\n",
      "      solver  :   t_proc      (avg)   t_wall      (avg)    n_eval\n",
      "       nlp_f  |  92.00us ( 11.50us)  91.12us ( 11.39us)         8\n",
      "       nlp_g  | 542.00us ( 67.75us) 542.02us ( 67.75us)         8\n",
      "    nlp_grad  | 264.00us (264.00us) 266.30us (266.30us)         1\n",
      "  nlp_grad_f  | 228.00us ( 25.33us) 226.00us ( 25.11us)         9\n",
      "  nlp_hess_l  | 335.00us ( 47.86us) 335.40us ( 47.91us)         7\n",
      "   nlp_jac_g  | 868.00us ( 96.44us) 873.64us ( 97.07us)         9\n",
      "       total  |  64.58ms ( 64.58ms)  31.19ms ( 31.19ms)         1\n",
      "Distance = 0.082262212598325\n",
      "----------- MPC execution -----------\n",
      "Predicted position of cube [0.49440261628783, 0.39795591232203, 0.12498838998835]\n",
      "      solver  :   t_proc      (avg)   t_wall      (avg)    n_eval\n",
      "       nlp_f  |  66.00us (  8.25us)  66.85us (  8.36us)         8\n",
      "       nlp_g  | 331.00us ( 41.38us) 327.62us ( 40.95us)         8\n",
      "    nlp_grad  |  39.00us ( 39.00us)  38.30us ( 38.30us)         1\n",
      "  nlp_grad_f  | 104.00us ( 11.56us) 101.48us ( 11.28us)         9\n",
      "  nlp_hess_l  | 276.00us ( 39.43us) 257.36us ( 36.77us)         7\n",
      "   nlp_jac_g  |   4.36ms (484.56us) 364.20us ( 40.47us)         9\n",
      "       total  |  43.80ms ( 43.80ms)  23.12ms ( 23.12ms)         1\n",
      "Distance = 0.074124834947204\n",
      "----------- MPC execution -----------\n",
      "Predicted position of cube [0.49440261628783, 0.39795591232203, 0.12498838998835]\n",
      "      solver  :   t_proc      (avg)   t_wall      (avg)    n_eval\n",
      "       nlp_f  |  71.00us (  8.88us)  67.71us (  8.46us)         8\n",
      "       nlp_g  | 243.00us ( 30.38us) 244.34us ( 30.54us)         8\n",
      "    nlp_grad  |  38.00us ( 38.00us)  37.46us ( 37.46us)         1\n",
      "  nlp_grad_f  | 141.00us ( 15.67us) 136.32us ( 15.15us)         9\n",
      "  nlp_hess_l  | 292.00us ( 41.71us) 292.35us ( 41.76us)         7\n",
      "   nlp_jac_g  | 412.00us ( 45.78us) 414.59us ( 46.07us)         9\n",
      "       total  |  48.53ms ( 48.53ms)  23.90ms ( 23.90ms)         1\n",
      "Distance = 0.06677918837497\n",
      "----------- MPC execution -----------\n",
      "Predicted position of cube [0.49440261628783, 0.39795591232203, 0.12498838998835]\n",
      "      solver  :   t_proc      (avg)   t_wall      (avg)    n_eval\n",
      "       nlp_f  |  60.00us (  8.57us)  60.14us (  8.59us)         7\n",
      "       nlp_g  | 276.00us ( 39.43us) 272.96us ( 38.99us)         7\n",
      "    nlp_grad  |  40.00us ( 40.00us)  39.27us ( 39.27us)         1\n",
      "  nlp_grad_f  | 101.00us ( 12.62us) 103.01us ( 12.88us)         8\n",
      "  nlp_hess_l  | 262.00us ( 43.67us) 262.52us ( 43.75us)         6\n",
      "   nlp_jac_g  | 462.00us ( 57.75us) 466.74us ( 58.34us)         8\n",
      "       total  |  48.76ms ( 48.76ms)  24.09ms ( 24.09ms)         1\n",
      "Distance = 0.060168955374775\n",
      "----------- MPC execution -----------\n",
      "Predicted position of cube [0.49440261628783, 0.39795591232203, 0.12498838998835]\n",
      "      solver  :   t_proc      (avg)   t_wall      (avg)    n_eval\n",
      "       nlp_f  |  79.00us ( 11.29us)  79.84us ( 11.41us)         7\n",
      "       nlp_g  | 354.00us ( 50.57us) 352.83us ( 50.40us)         7\n",
      "    nlp_grad  | 195.00us (195.00us) 194.45us (194.45us)         1\n",
      "  nlp_grad_f  |   4.13ms (516.38us) 150.77us ( 18.85us)         8\n",
      "  nlp_hess_l  | 352.00us ( 58.67us) 355.41us ( 59.23us)         6\n",
      "   nlp_jac_g  |   4.59ms (573.88us) 574.04us ( 71.75us)         8\n",
      "       total  |  78.88ms ( 78.88ms)  37.64ms ( 37.64ms)         1\n",
      "Distance = 0.054515934282209\n",
      "----------- MPC execution -----------\n",
      "Predicted position of cube [0.49440261628783, 0.39795591232203, 0.12498838998835]\n",
      "      solver  :   t_proc      (avg)   t_wall      (avg)    n_eval\n",
      "       nlp_f  |  71.00us ( 10.14us)  68.63us (  9.80us)         7\n",
      "       nlp_g  | 286.00us ( 40.86us) 282.71us ( 40.39us)         7\n",
      "    nlp_grad  |  46.00us ( 46.00us)  46.34us ( 46.34us)         1\n",
      "  nlp_grad_f  | 111.00us ( 13.88us) 109.73us ( 13.72us)         8\n",
      "  nlp_hess_l  | 254.00us ( 42.33us) 254.12us ( 42.35us)         6\n",
      "   nlp_jac_g  | 432.00us ( 54.00us) 434.76us ( 54.34us)         8\n",
      "       total  |  51.72ms ( 51.72ms)  26.25ms ( 26.25ms)         1\n",
      "Distance = 0.049953637225288\n",
      "----------- MPC execution -----------\n",
      "Predicted position of cube [0.49440261628783, 0.39795591232203, 0.12498838998835]\n",
      "      solver  :   t_proc      (avg)   t_wall      (avg)    n_eval\n",
      "       nlp_f  |  70.00us ( 10.00us)  71.98us ( 10.28us)         7\n",
      "       nlp_g  | 326.00us ( 46.57us) 323.06us ( 46.15us)         7\n",
      "    nlp_grad  | 180.00us (180.00us) 180.24us (180.24us)         1\n",
      "  nlp_grad_f  | 144.00us ( 18.00us) 145.52us ( 18.19us)         8\n",
      "  nlp_hess_l  | 228.00us ( 38.00us) 228.58us ( 38.10us)         6\n",
      "   nlp_jac_g  | 598.00us ( 74.75us) 602.15us ( 75.27us)         8\n",
      "       total  |  43.07ms ( 43.07ms)  22.61ms ( 22.61ms)         1\n",
      "Distance = 0.046283960107498\n",
      "----------- MPC execution -----------\n",
      "Predicted position of cube [0.49440261628783, 0.39795591232203, 0.12498838998835]\n",
      "      solver  :   t_proc      (avg)   t_wall      (avg)    n_eval\n",
      "       nlp_f  |  92.00us ( 13.14us)  92.96us ( 13.28us)         7\n",
      "       nlp_g  | 437.00us ( 62.43us) 429.21us ( 61.32us)         7\n",
      "    nlp_grad  | 130.00us (130.00us) 128.53us (128.53us)         1\n",
      "  nlp_grad_f  | 182.00us ( 22.75us) 180.15us ( 22.52us)         8\n",
      "  nlp_hess_l  | 243.00us ( 40.50us) 242.33us ( 40.39us)         6\n",
      "   nlp_jac_g  | 486.00us ( 60.75us) 488.66us ( 61.08us)         8\n",
      "       total  |  49.41ms ( 49.41ms)  24.65ms ( 24.65ms)         1\n",
      "Distance = 0.043369201990308\n",
      "----------- MPC execution -----------\n",
      "Predicted position of cube [0.49440261628783, 0.39795591232203, 0.12498838998835]\n",
      "      solver  :   t_proc      (avg)   t_wall      (avg)    n_eval\n",
      "       nlp_f  |  96.00us ( 13.71us)  94.62us ( 13.52us)         7\n",
      "       nlp_g  | 384.00us ( 54.86us) 382.99us ( 54.71us)         7\n",
      "    nlp_grad  |  76.00us ( 76.00us)  75.53us ( 75.53us)         1\n",
      "  nlp_grad_f  | 142.00us ( 17.75us) 141.46us ( 17.68us)         8\n",
      "  nlp_hess_l  | 274.00us ( 45.67us) 274.25us ( 45.71us)         6\n",
      "   nlp_jac_g  | 548.00us ( 68.50us) 568.01us ( 71.00us)         8\n",
      "       total  |  50.92ms ( 50.92ms)  25.74ms ( 25.74ms)         1\n",
      "Distance = 0.041093338057413\n",
      "----------- MPC execution -----------\n",
      "Predicted position of cube [0.49440261628783, 0.39795591232203, 0.12498838998835]\n",
      "      solver  :   t_proc      (avg)   t_wall      (avg)    n_eval\n",
      "       nlp_f  |  85.00us ( 12.14us)  83.96us ( 11.99us)         7\n",
      "       nlp_g  | 337.00us ( 48.14us) 361.61us ( 51.66us)         7\n",
      "    nlp_grad  |  40.00us ( 40.00us)  39.77us ( 39.77us)         1\n",
      "  nlp_grad_f  | 122.00us ( 15.25us) 124.48us ( 15.56us)         8\n",
      "  nlp_hess_l  | 302.00us ( 50.33us) 303.97us ( 50.66us)         6\n",
      "   nlp_jac_g  |   4.54ms (567.38us) 535.79us ( 66.97us)         8\n",
      "       total  |  64.56ms ( 64.56ms)  31.06ms ( 31.06ms)         1\n",
      "Distance = 0.039353195410447\n",
      "Ending simulation\n"
     ]
    }
   ],
   "source": [
    "for i in range(horizon_size * 100):\n",
    "    print(\"----------- MPC execution -----------\")\n",
    "\n",
    "    # Predict the position of the target object (cube)\n",
    "    lin_vel, ang_vel = p.getBaseVelocity(cubeID)\n",
    "    lin_vel = cs.DM(lin_vel)\n",
    "    lin_pos, _ = p.getBasePositionAndOrientation(cubeID)\n",
    "    lin_pos = cs.DM(lin_pos)\n",
    "    time_to_stop = cs.norm_1(lin_vel) / 0.5\n",
    "    predicted_pos = (\n",
    "        cs.DM(lin_pos)\n",
    "        + cs.DM(lin_vel) * time_to_stop\n",
    "        - 0.5 * 0.5 * lin_vel / (cs.norm_1(lin_vel) + 1e-3) * time_to_stop ** 2\n",
    "    )\n",
    "    predicted_pos[2] += 0.1  # cube height\n",
    "    print(\"Predicted position of cube\", predicted_pos)\n",
    "\n",
    "    # Set parameter values\n",
    "    tc.ocp.set_value(q0, q_sol[1])\n",
    "    tc.ocp.set_value(q_dot0, q_dot_sol[1])\n",
    "    tc.ocp.set_value(cube_pos, predicted_pos)\n",
    "\n",
    "    # Solve the ocp\n",
    "    sol = tc.solve_ocp()\n",
    "\n",
    "    # Sample the solution for the next MPC execution\n",
    "    ts, q_sol = sol.sample(q, grid=\"control\")\n",
    "    ts, q_dot_sol = sol.sample(q_dot, grid=\"control\")\n",
    "\n",
    "    tc.ocp.set_initial(q, q_sol.T)\n",
    "    tc.ocp.set_initial(q_dot, q_dot_sol.T)\n",
    "\n",
    "    # Set control signal to the simulated robot\n",
    "    obj.setController(\n",
    "        robotID, \"velocity\", joint_indices, targetVelocities=q_dot_sol[0]\n",
    "    )\n",
    "\n",
    "    # Simulate\n",
    "    obj.run_simulation(no_samples)\n",
    "\n",
    "    # Termination criteria\n",
    "    T_ee_sol = robot.fk(q_sol[0])[7]\n",
    "    pos_ee_sol = T_ee_sol[:3, 3]\n",
    "    dist_to_cube_sq = cs.sumsqr(pos_ee_sol - predicted_pos)\n",
    "    print(\"Distance =\",cs.sqrt(dist_to_cube_sq))\n",
    "    if dist_to_cube_sq <= 4e-2 ** 2:\n",
    "        break\n",
    "\n",
    "obj.setController(robotID, \"velocity\", joint_indices, targetVelocities=[0]*robot.ndof)\n",
    "obj.run_simulation(1000)\n",
    "\n",
    "obj.end_simulation()"
   ]
  },
  {
   "cell_type": "code",
   "execution_count": null,
   "id": "54078b3b",
   "metadata": {},
   "outputs": [],
   "source": []
  }
 ],
 "metadata": {
  "kernelspec": {
   "display_name": "Python 3",
   "language": "python",
   "name": "python3"
  },
  "language_info": {
   "codemirror_mode": {
    "name": "ipython",
    "version": 3
   },
   "file_extension": ".py",
   "mimetype": "text/x-python",
   "name": "python",
   "nbconvert_exporter": "python",
   "pygments_lexer": "ipython3",
   "version": "3.6.10"
  }
 },
 "nbformat": 4,
 "nbformat_minor": 5
}
