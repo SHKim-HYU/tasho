{
 "cells": [
  {
   "cell_type": "markdown",
   "id": "87bb3284",
   "metadata": {},
   "source": [
    "# TASHO - A model predictive control toolchain for constraint-based task specification of robot motions\n",
    "\n",
    "#### Presented by: Alejandro Astudillo and Ajay Sathya\n",
    "\n",
    "Tasho stands for “**TA**sk **S**pecification with receding **HO**rizon control”\n"
   ]
  },
  {
   "cell_type": "markdown",
   "id": "6c9a13c8",
   "metadata": {},
   "source": [
    "\n",
    "| <img src=\"files/img/overview.svg\" width=\"800\"> | \n",
    "|:--:| \n",
    "| Fig. 1. Tasho's overview |\n",
    "\n",
    "An implementation of a contour-following MPC using **Tasho**\n",
    "\n",
    "  \n",
    "First, we need to import the relevant modules from Tasho and other dependencies (casadi, numpy)"
   ]
  },
  {
   "cell_type": "code",
   "execution_count": null,
   "id": "c557ef75",
   "metadata": {},
   "outputs": [],
   "source": [
    "import os\n",
    "os.chdir(str(os.getcwd())+\"/../../\")\n",
    "\n",
    "import sys\n",
    "from tasho import task_prototype_rockit as tp\n",
    "from tasho import input_resolution\n",
    "from tasho import robot as rob\n",
    "from tasho import environment as env\n",
    "import casadi as cs\n",
    "from rockit import MultipleShooting, Ocp\n",
    "import numpy as np"
   ]
  },
  {
   "cell_type": "markdown",
   "id": "331b121b",
   "metadata": {},
   "source": [
    "## Robot model\n",
    "\n",
    "Import the robot object from the robot's repository"
   ]
  },
  {
   "cell_type": "code",
   "execution_count": null,
   "id": "9af16307",
   "metadata": {},
   "outputs": [],
   "source": [
    "# robot_choice = \"yumi\"\n",
    "robot_choice = \"kinova\"\n",
    "# robot_choice = \"iiwa7\"\n",
    "# robot_choice = \"atlas\"\n",
    "# robot_choice = \"ur10\"\n",
    "\n",
    "robot = rob.Robot(robot_choice, analytical_derivatives=True)"
   ]
  },
  {
   "cell_type": "markdown",
   "id": "98153803",
   "metadata": {},
   "source": [
    "The robot object includes functions for forward dynamics, inverse dynamics, forward kinematics, and their derivatives, beside variables for joint limits and barycentric parameters."
   ]
  },
  {
   "cell_type": "markdown",
   "id": "574fd4d9",
   "metadata": {},
   "source": [
    "#### Forward dynamics:\n",
    "\n",
    "$\n",
    "\\ddot{\\mathbf{q}} = M^{-1}(\\mathbf{q})\\left(\\tau - C(\\mathbf{q}, \\dot{\\mathbf{q}})\\dot{\\mathbf{q}} - G(\\mathbf{q})\\right)\n",
    "$"
   ]
  },
  {
   "cell_type": "code",
   "execution_count": null,
   "id": "f258153a",
   "metadata": {},
   "outputs": [],
   "source": [
    "FD = robot.fd\n",
    "print(FD)"
   ]
  },
  {
   "cell_type": "code",
   "execution_count": null,
   "id": "73871bc2",
   "metadata": {},
   "outputs": [],
   "source": [
    "J_FD = robot.J_fd\n",
    "print(J_FD)"
   ]
  },
  {
   "cell_type": "markdown",
   "id": "94904c8d",
   "metadata": {},
   "source": [
    "#### Inverse dynamics:\n",
    "$\n",
    "\\tau = M(\\mathbf{q}) + C(\\mathbf{q}, \\dot{\\mathbf{q}})\\dot{\\mathbf{q}} + G(\\mathbf{q})\n",
    "$"
   ]
  },
  {
   "cell_type": "code",
   "execution_count": null,
   "id": "e0593afc",
   "metadata": {},
   "outputs": [],
   "source": [
    "ID = robot.id\n",
    "print(ID)"
   ]
  },
  {
   "cell_type": "code",
   "execution_count": null,
   "id": "5e47adbc",
   "metadata": {},
   "outputs": [],
   "source": [
    "J_ID = robot.J_id\n",
    "print(J_ID)"
   ]
  },
  {
   "cell_type": "markdown",
   "id": "28b9f0e1",
   "metadata": {},
   "source": [
    "#### Forward kinematics:"
   ]
  },
  {
   "cell_type": "code",
   "execution_count": null,
   "id": "a916e5ec",
   "metadata": {},
   "outputs": [],
   "source": [
    "FK = robot.fk\n",
    "print(FK)"
   ]
  },
  {
   "cell_type": "markdown",
   "id": "45f09f17",
   "metadata": {},
   "source": [
    "#### Upper and lower bound on joint position:"
   ]
  },
  {
   "cell_type": "code",
   "execution_count": null,
   "id": "5ef15dc4",
   "metadata": {},
   "outputs": [],
   "source": [
    "print(\"Upper bound on q: \",robot.joint_ub)"
   ]
  },
  {
   "cell_type": "code",
   "execution_count": null,
   "id": "20d7e5de",
   "metadata": {},
   "outputs": [],
   "source": [
    "print(\"Lower bound on q: \",robot.joint_lb)"
   ]
  },
  {
   "cell_type": "markdown",
   "id": "c43c3422",
   "metadata": {},
   "source": [
    "#### Upper and lower bound on joint velocity:"
   ]
  },
  {
   "cell_type": "code",
   "execution_count": null,
   "id": "97af3635",
   "metadata": {},
   "outputs": [],
   "source": [
    "print(\"Upper bound on q_dot: \",robot.joint_vel_ub)"
   ]
  },
  {
   "cell_type": "code",
   "execution_count": null,
   "id": "4ebe1516",
   "metadata": {},
   "outputs": [],
   "source": [
    "print(\"Lower bound on q_dot: \",robot.joint_vel_lb)"
   ]
  },
  {
   "cell_type": "markdown",
   "id": "9a09ef7c",
   "metadata": {},
   "source": [
    "#### Upper and lower bound on joint torque:"
   ]
  },
  {
   "cell_type": "code",
   "execution_count": null,
   "id": "dc478db6",
   "metadata": {},
   "outputs": [],
   "source": [
    "print(\"Upper bound on tau: \",robot.joint_torque_ub)"
   ]
  },
  {
   "cell_type": "code",
   "execution_count": null,
   "id": "00464cb2",
   "metadata": {},
   "outputs": [],
   "source": [
    "print(\"Lower bound on tau: \",robot.joint_torque_lb)"
   ]
  },
  {
   "cell_type": "markdown",
   "id": "c206a43a",
   "metadata": {},
   "source": [
    "#### Upper and lower bound on joint acceleration:"
   ]
  },
  {
   "cell_type": "code",
   "execution_count": null,
   "id": "aa70cd8d",
   "metadata": {},
   "outputs": [],
   "source": [
    "print(\"Upper bound on q_ddot: \",robot.joint_acc_ub)"
   ]
  },
  {
   "cell_type": "code",
   "execution_count": null,
   "id": "f99dd72f",
   "metadata": {},
   "outputs": [],
   "source": [
    "print(\"Lower bound on q_ddot: \",robot.joint_acc_lb)"
   ]
  },
  {
   "cell_type": "markdown",
   "id": "47941d86",
   "metadata": {},
   "source": [
    "#### Update robot's parameters if needed"
   ]
  },
  {
   "cell_type": "code",
   "execution_count": null,
   "id": "183bdfe4",
   "metadata": {},
   "outputs": [],
   "source": [
    "ocp_control = \"acceleration_resolved\"\n",
    "# ocp_control = \"torque_resolved\"\n",
    "\n",
    "if ocp_control == \"acceleration_resolved\":\n",
    "    max_joint_acc = 240 * cs.pi / 180\n",
    "    robot.set_joint_acceleration_limits(lb=[-max_joint_acc]*robot.ndof, ub=[max_joint_acc]*robot.ndof)\n",
    "    "
   ]
  },
  {
   "cell_type": "code",
   "execution_count": null,
   "id": "3b0ff298",
   "metadata": {},
   "outputs": [],
   "source": [
    "print(\"Upper bound on q_ddot: \",robot.joint_acc_ub)"
   ]
  },
  {
   "cell_type": "code",
   "execution_count": null,
   "id": "448a484c",
   "metadata": {},
   "outputs": [],
   "source": [
    "print(\"Lower bound on q_ddot: \",robot.joint_acc_lb)"
   ]
  },
  {
   "cell_type": "markdown",
   "id": "33bc03c3",
   "metadata": {},
   "source": [
    "## Task spacification"
   ]
  },
  {
   "cell_type": "code",
   "execution_count": null,
   "id": "5e11faa2",
   "metadata": {},
   "outputs": [],
   "source": [
    "# Define initial conditions of the robot\n",
    "if robot_choice == \"yumi\":\n",
    "    left_arm_q_init = [-1.35, -3.72e-01, 2.18, 0.78e-01, 2.08, -9.76e-01, -1.71, 1.65e-03, 1.65e-03]\n",
    "    # Right arm in home configuration\n",
    "    right_arm_q_init = [0, -2.26, -2.35, 0.52, 0.025, 0.749, 0, 0, 0]\n",
    "\n",
    "    q_init = np.array(left_arm_q_init + right_arm_q_init).T\n",
    "elif robot_choice == \"kinova\":\n",
    "    q_init = [0, -0.523598, 0, 2.51799, 0, -0.523598, -1.5708]\n",
    "q_dot_init = [0] * robot.ndof"
   ]
  },
  {
   "cell_type": "markdown",
   "id": "67bf2456",
   "metadata": {},
   "source": [
    "Select prediction horizon and sample time for the MPC execution"
   ]
  },
  {
   "cell_type": "code",
   "execution_count": null,
   "id": "cb4a474b",
   "metadata": {},
   "outputs": [],
   "source": [
    "horizon_size = 20\n",
    "t_mpc = 0.1"
   ]
  },
  {
   "cell_type": "markdown",
   "id": "8cec00d0",
   "metadata": {},
   "source": [
    "Initialize the task context object"
   ]
  },
  {
   "cell_type": "code",
   "execution_count": null,
   "id": "5b20d9af",
   "metadata": {},
   "outputs": [],
   "source": [
    "tc = tp.task_context(horizon_size * t_mpc, horizon_steps = horizon_size)"
   ]
  },
  {
   "cell_type": "markdown",
   "id": "d646eba5",
   "metadata": {},
   "source": [
    "Define the input type of the robot (torque or acceleration)"
   ]
  },
  {
   "cell_type": "code",
   "execution_count": null,
   "id": "173f0143",
   "metadata": {},
   "outputs": [],
   "source": [
    "q, q_dot, q_ddot, q0, q_dot0 = input_resolution.acceleration_resolved(tc, robot)"
   ]
  },
  {
   "cell_type": "markdown",
   "id": "eb886801",
   "metadata": {},
   "source": [
    "Add object of interest for the robot (in this case a cube + 0.05 m in $z$-direction)"
   ]
  },
  {
   "cell_type": "code",
   "execution_count": null,
   "id": "a26798c2",
   "metadata": {},
   "outputs": [],
   "source": [
    "cube_pos = tc.create_expression(\"cube_pos\", \"parameter\", (3, 1))\n",
    "T_goal = cs.vertcat(\n",
    "    cs.hcat([0, 1, 0, cube_pos[0]]),\n",
    "    cs.hcat([1, 0, 0, cube_pos[1]]),\n",
    "    cs.hcat([0, 0, -1, cube_pos[2]+0.05]),\n",
    "    cs.hcat([0, 0, 0, 1]),\n",
    ")"
   ]
  },
  {
   "cell_type": "markdown",
   "id": "c69fe43b",
   "metadata": {},
   "source": [
    "Define constraints at the end of the horizon (final ee position and final joint velocity)"
   ]
  },
  {
   "cell_type": "code",
   "execution_count": null,
   "id": "107c1599",
   "metadata": {},
   "outputs": [],
   "source": [
    "T_ee = robot.fk(q)[7]\n",
    "\n",
    "final_pos = {\n",
    "    \"hard\": False,\n",
    "    \"type\": \"Frame\",\n",
    "    \"expression\": T_ee,\n",
    "    \"reference\": T_goal,\n",
    "    \"rot_gain\": 10,\n",
    "    \"trans_gain\": 10,\n",
    "    \"norm\": \"L1\",\n",
    "}\n",
    "final_vel = {\"hard\": True, \"expression\": q_dot, \"reference\": 0}\n",
    "final_constraints = {\"final_constraints\": [final_pos, final_vel]}\n",
    "tc.add_task_constraint(final_constraints)"
   ]
  },
  {
   "cell_type": "markdown",
   "id": "69c88152",
   "metadata": {},
   "source": [
    "Add penality terms on joint velocity and acceleration for regulatization"
   ]
  },
  {
   "cell_type": "code",
   "execution_count": null,
   "id": "4a8cd44b",
   "metadata": {},
   "outputs": [],
   "source": [
    "tc.add_regularization(\n",
    "    expression=q_dot, weight=1e-3, norm=\"L2\", variable_type=\"state\", reference=0\n",
    ")\n",
    "tc.add_regularization(\n",
    "    expression=q_ddot, weight=1e-3, norm=\"L2\", variable_type=\"control\", reference=0\n",
    ")"
   ]
  },
  {
   "cell_type": "markdown",
   "id": "e9a5081e",
   "metadata": {},
   "source": [
    "Set solver and discretization options"
   ]
  },
  {
   "cell_type": "code",
   "execution_count": null,
   "id": "907bee72",
   "metadata": {},
   "outputs": [],
   "source": [
    "tc.set_ocp_solver(\n",
    "    \"ipopt\",\n",
    "    {\n",
    "        \"ipopt\": {\n",
    "            \"print_level\": 0,\n",
    "            \"tol\": 1e-3,\n",
    "        }\n",
    "    },\n",
    ")"
   ]
  },
  {
   "cell_type": "code",
   "execution_count": null,
   "id": "d93f6b89",
   "metadata": {},
   "outputs": [],
   "source": [
    "disc_settings = {\n",
    "    \"discretization method\": \"multiple shooting\",\n",
    "    \"horizon size\": horizon_size,\n",
    "    \"order\": 1,\n",
    "    \"integration\": \"rk\",\n",
    "}\n",
    "tc.set_discretization_settings(disc_settings)"
   ]
  },
  {
   "cell_type": "markdown",
   "id": "70bcab20",
   "metadata": {},
   "source": [
    "Set parameter values"
   ]
  },
  {
   "cell_type": "code",
   "execution_count": null,
   "id": "8944bf64",
   "metadata": {},
   "outputs": [],
   "source": [
    "tc.ocp.set_value(cube_pos, [0.5, 0, 0.25])\n",
    "tc.ocp.set_value(q0, q_init)\n",
    "tc.ocp.set_value(q_dot0, q_dot_init)"
   ]
  },
  {
   "cell_type": "markdown",
   "id": "f4509211",
   "metadata": {},
   "source": [
    "Solve the OCP that describes the task"
   ]
  },
  {
   "cell_type": "code",
   "execution_count": null,
   "id": "429d6c13",
   "metadata": {},
   "outputs": [],
   "source": [
    "sol = tc.solve_ocp()"
   ]
  },
  {
   "cell_type": "markdown",
   "id": "8efecf1f",
   "metadata": {},
   "source": [
    "\n",
    "## MPC Simulation\n",
    "\n",
    "Create world simulator based on pybullet"
   ]
  },
  {
   "cell_type": "code",
   "execution_count": null,
   "id": "1dc16145",
   "metadata": {},
   "outputs": [],
   "source": [
    "from tasho import world_simulator\n",
    "import pybullet as p\n",
    "\n",
    "obj = world_simulator.world_simulator()"
   ]
  },
  {
   "cell_type": "markdown",
   "id": "8bf4092c",
   "metadata": {},
   "source": [
    "Add robot to the world environment"
   ]
  },
  {
   "cell_type": "code",
   "execution_count": null,
   "id": "d3d08654",
   "metadata": {},
   "outputs": [],
   "source": [
    "position = [0.0, 0.0, 0.0]\n",
    "orientation = [0.0, 0.0, 0.0, 1.0]\n",
    "robotID = obj.add_robot(position, orientation, robot_choice)"
   ]
  },
  {
   "cell_type": "markdown",
   "id": "56fb510a",
   "metadata": {},
   "source": [
    "Define world environment"
   ]
  },
  {
   "cell_type": "code",
   "execution_count": null,
   "id": "33304bc1",
   "metadata": {},
   "outputs": [],
   "source": [
    "environment = env.Environment()"
   ]
  },
  {
   "cell_type": "markdown",
   "id": "f0aeecf3",
   "metadata": {},
   "source": [
    "Add cube to the environment"
   ]
  },
  {
   "cell_type": "code",
   "execution_count": null,
   "id": "3851ab38",
   "metadata": {},
   "outputs": [],
   "source": [
    "cube1 = env.Cube(length = 1, position = [0.5, -0.2, 0.35], orientation = [0.0, 0.0, 0.0, 1.0], urdf = \"/models/objects/cube_small.urdf\")\n",
    "environment.add_object(cube1, \"cube\")"
   ]
  },
  {
   "cell_type": "markdown",
   "id": "60c7a1f3",
   "metadata": {},
   "source": [
    "Add table to the environment"
   ]
  },
  {
   "cell_type": "code",
   "execution_count": null,
   "id": "dd0a5791",
   "metadata": {},
   "outputs": [],
   "source": [
    "table1 = env.Box(height = 0.3, position = [0.5, 0, 0], orientation = [0.0, 0.0, 0.7071080798594737, 0.7071054825112364], urdf = \"/models/objects/table.urdf\")\n",
    "environment.add_object(table1, \"table1\")"
   ]
  },
  {
   "cell_type": "markdown",
   "id": "310801f1",
   "metadata": {},
   "source": [
    "Add environment to world simulator"
   ]
  },
  {
   "cell_type": "code",
   "execution_count": null,
   "id": "b67b22bd",
   "metadata": {},
   "outputs": [],
   "source": [
    "environment.set_in_world_simulator(obj)"
   ]
  },
  {
   "cell_type": "markdown",
   "id": "9e2e3610",
   "metadata": {},
   "source": [
    "Update initial velocity of the cube"
   ]
  },
  {
   "cell_type": "code",
   "execution_count": null,
   "id": "41e68478",
   "metadata": {},
   "outputs": [],
   "source": [
    "cubeID = environment.get_object_ID(\"cube\")\n",
    "p.resetBaseVelocity(cubeID, linearVelocity=[0, 0.7, 0])"
   ]
  },
  {
   "cell_type": "markdown",
   "id": "80be9c3e",
   "metadata": {},
   "source": [
    "Determine number of samples that the simulation should be executed"
   ]
  },
  {
   "cell_type": "code",
   "execution_count": null,
   "id": "4b6a0e2f",
   "metadata": {},
   "outputs": [],
   "source": [
    "no_samples = int(t_mpc / obj.physics_ts)"
   ]
  },
  {
   "cell_type": "markdown",
   "id": "01f9f55d",
   "metadata": {},
   "source": [
    "Correspondence between joint numbers in bullet and OCP"
   ]
  },
  {
   "cell_type": "code",
   "execution_count": null,
   "id": "ddcdf9ff",
   "metadata": {},
   "outputs": [],
   "source": [
    "if robot_choice == \"yumi\":\n",
    "    joint_indices = [11, 12, 13, 14, 15, 16, 17, 18, 19, 1, 2, 3, 4, 5, 6, 7, 8, 9]\n",
    "elif robot_choice == \"kinova\":\n",
    "    joint_indices = [0, 1, 2, 3, 4, 5, 6]"
   ]
  },
  {
   "cell_type": "markdown",
   "id": "140f7ecb",
   "metadata": {},
   "source": [
    "Begin the visualization by applying the initial control signal"
   ]
  },
  {
   "cell_type": "code",
   "execution_count": null,
   "id": "4e3a13a0",
   "metadata": {},
   "outputs": [],
   "source": [
    "ts, q_sol = sol.sample(q, grid=\"control\")\n",
    "ts, q_dot_sol = sol.sample(q_dot, grid=\"control\")\n",
    "obj.resetJointState(robotID, joint_indices, q_init)\n",
    "obj.setController(\n",
    "    robotID, \"velocity\", joint_indices, targetVelocities=q_dot_sol[0]\n",
    ")"
   ]
  },
  {
   "cell_type": "markdown",
   "id": "8560b6b9",
   "metadata": {},
   "source": [
    "Execute the MPC loop"
   ]
  },
  {
   "cell_type": "code",
   "execution_count": null,
   "id": "caa7dc9b",
   "metadata": {},
   "outputs": [],
   "source": [
    "for i in range(horizon_size * 100):\n",
    "    print(\"----------- MPC execution -----------\")\n",
    "\n",
    "    # Predict the position of the target object (cube)\n",
    "    lin_vel, ang_vel = p.getBaseVelocity(cubeID)\n",
    "    lin_vel = cs.DM(lin_vel)\n",
    "    lin_pos, _ = p.getBasePositionAndOrientation(cubeID)\n",
    "    lin_pos = cs.DM(lin_pos)\n",
    "    time_to_stop = cs.norm_1(lin_vel) / 0.5\n",
    "    predicted_pos = (\n",
    "        cs.DM(lin_pos)\n",
    "        + cs.DM(lin_vel) * time_to_stop\n",
    "        - 0.5 * 0.5 * lin_vel / (cs.norm_1(lin_vel) + 1e-3) * time_to_stop ** 2\n",
    "    )\n",
    "    predicted_pos[2] += 0.03  # cube height\n",
    "    print(\"Predicted position of cube\", predicted_pos)\n",
    "\n",
    "    # Set parameter values\n",
    "    tc.ocp.set_value(q0, q_sol[1])\n",
    "    tc.ocp.set_value(q_dot0, q_dot_sol[1])\n",
    "    tc.ocp.set_value(cube_pos, predicted_pos)\n",
    "\n",
    "    # Solve the ocp\n",
    "    sol = tc.solve_ocp()\n",
    "\n",
    "    # Sample the solution for the next MPC execution\n",
    "    ts, q_sol = sol.sample(q, grid=\"control\")\n",
    "    ts, q_dot_sol = sol.sample(q_dot, grid=\"control\")\n",
    "\n",
    "    tc.ocp.set_initial(q, q_sol.T)\n",
    "    tc.ocp.set_initial(q_dot, q_dot_sol.T)\n",
    "\n",
    "    # Set control signal to the simulated robot\n",
    "    obj.setController(\n",
    "        robotID, \"velocity\", joint_indices, targetVelocities=q_dot_sol[0]\n",
    "    )\n",
    "\n",
    "    # Simulate\n",
    "    obj.run_simulation(no_samples)\n",
    "\n",
    "    # Termination criteria\n",
    "    T_ee_sol = robot.fk(q_sol[0])[7]\n",
    "    pos_ee_sol = T_ee_sol[:3, 3]+np.array([0,0,0.05])\n",
    "    dist_to_cube_sq = cs.sumsqr(pos_ee_sol - predicted_pos)\n",
    "    if dist_to_cube_sq <= 2e-2 ** 2:\n",
    "        break\n",
    "\n",
    "obj.run_simulation(100)\n",
    "\n",
    "obj.end_simulation()"
   ]
  },
  {
   "cell_type": "code",
   "execution_count": null,
   "id": "54078b3b",
   "metadata": {},
   "outputs": [],
   "source": []
  }
 ],
 "metadata": {
  "kernelspec": {
   "display_name": "Python 3",
   "language": "python",
   "name": "python3"
  },
  "language_info": {
   "codemirror_mode": {
    "name": "ipython",
    "version": 3
   },
   "file_extension": ".py",
   "mimetype": "text/x-python",
   "name": "python",
   "nbconvert_exporter": "python",
   "pygments_lexer": "ipython3",
   "version": "3.6.10"
  }
 },
 "nbformat": 4,
 "nbformat_minor": 5
}
