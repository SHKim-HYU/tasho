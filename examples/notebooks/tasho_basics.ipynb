{
 "cells": [
  {
   "cell_type": "markdown",
   "id": "87bb3284",
   "metadata": {},
   "source": [
    "# TASHO - A model predictive control toolchain for constraint-based task specification of robot motions\n",
    "\n",
    "#### Presented by: Alejandro Astudillo and Ajay Sathya\n",
    "\n",
    "Tasho stands for “**TA**sk **S**pecification with receding **HO**rizon control”\n"
   ]
  },
  {
   "cell_type": "markdown",
   "id": "6c9a13c8",
   "metadata": {},
   "source": [
    "\n",
    "| <img src=\"files/img/overview.svg\" width=\"800\"> | \n",
    "|:--:| \n",
    "| Fig. 1. Tasho's overview |\n",
    "\n",
    "An implementation of a contour-following MPC using **Tasho**\n",
    "\n",
    "  \n",
    "First, we need to import the relevant modules from Tasho and other dependencies (casadi, numpy)"
   ]
  },
  {
   "cell_type": "code",
   "execution_count": null,
   "id": "c557ef75",
   "metadata": {},
   "outputs": [],
   "source": [
    "import os\n",
    "os.chdir(str(os.getcwd())+\"/../../\")\n",
    "\n",
    "from tasho import task_prototype_rockit as tp\n",
    "from tasho import input_resolution, world_simulator\n",
    "from tasho import robot as rob\n",
    "from tasho import MPC\n",
    "from tasho.utils import geometry\n",
    "import casadi as cs\n",
    "import numpy as np"
   ]
  },
  {
   "cell_type": "markdown",
   "id": "331b121b",
   "metadata": {},
   "source": [
    "## Robot model\n",
    "\n",
    "Import the robot object from the robot's repository"
   ]
  },
  {
   "cell_type": "code",
   "execution_count": null,
   "id": "9af16307",
   "metadata": {},
   "outputs": [],
   "source": [
    "robot_choice = \"yumi\"\n",
    "# robot_choice = \"kinova\"\n",
    "# robot_choice = \"iiwa7\"\n",
    "# robot_choice = \"atlas\"\n",
    "# robot_choice = \"ur10\"\n",
    "\n",
    "robot = rob.Robot(robot_choice, analytical_derivatives=True)"
   ]
  },
  {
   "cell_type": "markdown",
   "id": "98153803",
   "metadata": {},
   "source": [
    "The robot object includes functions for forward dynamics, inverse dynamics, forward kinematics, and their derivatives, beside variables for joint limits and barycentric parameters."
   ]
  },
  {
   "cell_type": "markdown",
   "id": "574fd4d9",
   "metadata": {},
   "source": [
    "#### Forward dynamics:\n",
    "\n",
    "$\n",
    "\\ddot{\\mathbf{q}} = M^{-1}(\\mathbf{q})\\left(\\tau - C(\\mathbf{q}, \\dot{\\mathbf{q}})\\dot{\\mathbf{q}} - G(\\mathbf{q})\\right)\n",
    "$"
   ]
  },
  {
   "cell_type": "code",
   "execution_count": null,
   "id": "f258153a",
   "metadata": {},
   "outputs": [],
   "source": [
    "FD = robot.fd\n",
    "print(FD)"
   ]
  },
  {
   "cell_type": "code",
   "execution_count": null,
   "id": "73871bc2",
   "metadata": {},
   "outputs": [],
   "source": [
    "J_FD = robot.J_fd\n",
    "print(J_FD)"
   ]
  },
  {
   "cell_type": "markdown",
   "id": "94904c8d",
   "metadata": {},
   "source": [
    "#### Inverse dynamics:\n",
    "$\n",
    "\\tau = M(\\mathbf{q}) + C(\\mathbf{q}, \\dot{\\mathbf{q}})\\dot{\\mathbf{q}} + G(\\mathbf{q})\n",
    "$"
   ]
  },
  {
   "cell_type": "code",
   "execution_count": null,
   "id": "e0593afc",
   "metadata": {},
   "outputs": [],
   "source": [
    "ID = robot.id\n",
    "print(ID)"
   ]
  },
  {
   "cell_type": "code",
   "execution_count": null,
   "id": "5e47adbc",
   "metadata": {},
   "outputs": [],
   "source": [
    "J_ID = robot.J_id\n",
    "print(J_ID)"
   ]
  },
  {
   "cell_type": "markdown",
   "id": "28b9f0e1",
   "metadata": {},
   "source": [
    "#### Forward kinematics:"
   ]
  },
  {
   "cell_type": "code",
   "execution_count": null,
   "id": "a916e5ec",
   "metadata": {},
   "outputs": [],
   "source": [
    "FK = robot.fk\n",
    "print(FK)"
   ]
  },
  {
   "cell_type": "markdown",
   "id": "45f09f17",
   "metadata": {},
   "source": [
    "#### Upper and lower bound on joint position:"
   ]
  },
  {
   "cell_type": "code",
   "execution_count": null,
   "id": "5ef15dc4",
   "metadata": {},
   "outputs": [],
   "source": [
    "print(\"Upper bound on q: \",robot.joint_ub)"
   ]
  },
  {
   "cell_type": "code",
   "execution_count": null,
   "id": "20d7e5de",
   "metadata": {},
   "outputs": [],
   "source": [
    "print(\"Lower bound on q: \",robot.joint_lb)"
   ]
  },
  {
   "cell_type": "markdown",
   "id": "c43c3422",
   "metadata": {},
   "source": [
    "#### Upper and lower bound on joint velocity:"
   ]
  },
  {
   "cell_type": "code",
   "execution_count": null,
   "id": "97af3635",
   "metadata": {},
   "outputs": [],
   "source": [
    "print(\"Upper bound on q_dot: \",robot.joint_vel_ub)"
   ]
  },
  {
   "cell_type": "code",
   "execution_count": null,
   "id": "4ebe1516",
   "metadata": {},
   "outputs": [],
   "source": [
    "print(\"Lower bound on q_dot: \",robot.joint_vel_lb)"
   ]
  },
  {
   "cell_type": "markdown",
   "id": "9a09ef7c",
   "metadata": {},
   "source": [
    "#### Upper and lower bound on joint torque:"
   ]
  },
  {
   "cell_type": "code",
   "execution_count": null,
   "id": "dc478db6",
   "metadata": {},
   "outputs": [],
   "source": [
    "print(\"Upper bound on tau: \",robot.joint_torque_ub)"
   ]
  },
  {
   "cell_type": "code",
   "execution_count": null,
   "id": "00464cb2",
   "metadata": {},
   "outputs": [],
   "source": [
    "print(\"Lower bound on tau: \",robot.joint_torque_lb)"
   ]
  },
  {
   "cell_type": "markdown",
   "id": "c206a43a",
   "metadata": {},
   "source": [
    "#### Upper and lower bound on joint acceleration:"
   ]
  },
  {
   "cell_type": "code",
   "execution_count": null,
   "id": "aa70cd8d",
   "metadata": {},
   "outputs": [],
   "source": [
    "print(\"Upper bound on q_ddot: \",robot.joint_acc_ub)"
   ]
  },
  {
   "cell_type": "code",
   "execution_count": null,
   "id": "f99dd72f",
   "metadata": {},
   "outputs": [],
   "source": [
    "print(\"Lower bound on q_ddot: \",robot.joint_acc_lb)"
   ]
  },
  {
   "cell_type": "markdown",
   "id": "47941d86",
   "metadata": {},
   "source": [
    "#### Update robot's parameters if needed"
   ]
  },
  {
   "cell_type": "code",
   "execution_count": null,
   "id": "183bdfe4",
   "metadata": {},
   "outputs": [],
   "source": [
    "ocp_control = \"acceleration_resolved\"\n",
    "# ocp_control = \"torque_resolved\"\n",
    "\n",
    "if ocp_control == \"acceleration_resolved\":\n",
    "    max_joint_acc = 240 * cs.pi / 180\n",
    "    robot.set_joint_acceleration_limits(lb=[-max_joint_acc]*robot.ndof, ub=[max_joint_acc]*robot.ndof)\n",
    "    "
   ]
  },
  {
   "cell_type": "code",
   "execution_count": null,
   "id": "3b0ff298",
   "metadata": {},
   "outputs": [],
   "source": [
    "print(\"Upper bound on q_ddot: \",robot.joint_acc_ub)"
   ]
  },
  {
   "cell_type": "code",
   "execution_count": null,
   "id": "448a484c",
   "metadata": {},
   "outputs": [],
   "source": [
    "print(\"Lower bound on q_ddot: \",robot.joint_acc_lb)"
   ]
  },
  {
   "cell_type": "markdown",
   "id": "33bc03c3",
   "metadata": {},
   "source": [
    "## Task spacification"
   ]
  },
  {
   "cell_type": "markdown",
   "id": "8fc654eb",
   "metadata": {},
   "source": [
    "Select prediction horizon and sample time for the MPC execution"
   ]
  },
  {
   "cell_type": "code",
   "execution_count": null,
   "id": "caa7dc9b",
   "metadata": {},
   "outputs": [],
   "source": [
    "horizon_size = 16\n",
    "t_mpc = 0.01"
   ]
  },
  {
   "cell_type": "markdown",
   "id": "33881f53",
   "metadata": {},
   "source": [
    "Initialize the task context object"
   ]
  },
  {
   "cell_type": "code",
   "execution_count": null,
   "id": "571cc3ae",
   "metadata": {},
   "outputs": [],
   "source": [
    "tc = tp.task_context(horizon_size * t_mpc, horizon_steps=horizon_size)"
   ]
  },
  {
   "cell_type": "markdown",
   "id": "64eab346",
   "metadata": {},
   "source": [
    "Define the input type of the robot (torque or acceleration) and, consequently, the robot dynamics $f_x(x,u)$ to be used within the task context"
   ]
  },
  {
   "cell_type": "code",
   "execution_count": null,
   "id": "51150eb8",
   "metadata": {},
   "outputs": [],
   "source": [
    "if ocp_control == \"acceleration_resolved\":\n",
    "    q, q_dot, q_ddot, q0, q_dot0 = input_resolution.acceleration_resolved(tc, robot, {})\n",
    "elif ocp_control == \"torque_resolved\":\n",
    "    q, q_dot, q_ddot, tau, q0, q_dot0 = input_resolution.torque_resolved(tc, robot, \n",
    "                                                                         {\"forward_dynamics_constraints\": False})"
   ]
  },
  {
   "cell_type": "markdown",
   "id": "83bf3e1f",
   "metadata": {},
   "source": [
    "Define path dynamics $f_\\zeta(\\zeta,\\nu)$ based on path-progress variable $s$\n",
    "\n",
    "$\n",
    "\\begin{aligned}\n",
    "f_\\zeta(\\zeta,\\nu) & = \\begin{bmatrix}0 & 1 \\\\ 0 & 0 \\end{bmatrix}\\zeta + \\begin{bmatrix}0 \\\\ 1 \\end{bmatrix}\\nu,\\\\\n",
    "\\zeta & = \\begin{bmatrix}s \\\\ \\dot{s}\\end{bmatrix},\\ \\ \\ \\ \\ \\ \\ \\nu = \\ddot{s},\n",
    "\\end{aligned}\n",
    "$\n"
   ]
  },
  {
   "cell_type": "code",
   "execution_count": null,
   "id": "658f1f4f",
   "metadata": {},
   "outputs": [],
   "source": [
    "s = tc.create_expression(\"s\", \"state\", (1, 1))\n",
    "s_dot = tc.create_expression(\"s_dot\", \"state\", (1, 1))\n",
    "s_ddot = tc.create_expression(\"s_ddot\", \"control\", (1, 1))\n",
    "\n",
    "tc.set_dynamics(s, s_dot)\n",
    "tc.set_dynamics(s_dot, s_ddot)"
   ]
  },
  {
   "cell_type": "markdown",
   "id": "69c2f761",
   "metadata": {},
   "source": [
    "Set $s(0)$ and $\\dot{s}(0)$ as parameters"
   ]
  },
  {
   "cell_type": "code",
   "execution_count": null,
   "id": "8db55c27",
   "metadata": {},
   "outputs": [],
   "source": [
    "s0 = tc.create_expression(\"s0\", \"parameter\", (1, 1))\n",
    "s_dot0 = tc.create_expression(\"s_dot0\", \"parameter\", (1, 1))\n",
    "\n",
    "s_init_con = {\"expression\": s, \"reference\": s0}\n",
    "s_dot_init_con = {\"expression\": s_dot, \"reference\": s_dot0}\n",
    "init_constraints = {\"initial_constraints\": [s_init_con, s_dot_init_con]}\n",
    "tc.add_task_constraint(init_constraints)"
   ]
  },
  {
   "cell_type": "markdown",
   "id": "f48ce2d6",
   "metadata": {},
   "source": [
    "Add constraints for path-progress variable:   \n",
    "$0 <= s <= 1$  \n",
    "$\\dot{s} >= 0$"
   ]
  },
  {
   "cell_type": "code",
   "execution_count": null,
   "id": "ec84a7c7",
   "metadata": {},
   "outputs": [],
   "source": [
    "s_con = {\n",
    "    \"hard\": True,\n",
    "    \"lub\": True,\n",
    "    \"expression\": s,\n",
    "    \"lower_limits\": 0,\n",
    "    \"upper_limits\": 1,\n",
    "}\n",
    "s_dotcon = {\n",
    "    \"hard\": True,\n",
    "    \"inequality\": True,\n",
    "    \"expression\": -s_dot,\n",
    "    \"upper_limits\": 0,\n",
    "}\n",
    "s_path_constraints = {\"path_constraints\": [s_con, s_dotcon]}\n",
    "tc.add_task_constraint(s_path_constraints)"
   ]
  },
  {
   "cell_type": "markdown",
   "id": "ff274bd6",
   "metadata": {},
   "source": [
    "#### Define the contour to be followed"
   ]
  },
  {
   "cell_type": "code",
   "execution_count": null,
   "id": "cdb037f0",
   "metadata": {},
   "outputs": [],
   "source": [
    "def contour_path(s):\n",
    "    ee_fk_init = robot.fk(q_init)[7]\n",
    "    ee_pos_init = ee_fk_init[:3, 3]\n",
    "    ee_rot_init = ee_fk_init[:3, :3]\n",
    "\n",
    "    sdotref = 0.1\n",
    "    sdot_path = sdotref * (\n",
    "        5.777783e-13 * s ** 5\n",
    "        - 34.6153846154 * s ** 4\n",
    "        + 69.2307692308 * s ** 3\n",
    "        - 46.7307692308 * s ** 2\n",
    "        + 12.1153846154 * s\n",
    "        + 0.0515384615\n",
    "    )\n",
    "\n",
    "    a_p = 0.15\n",
    "    z_p = 0.05\n",
    "    pos_path = ee_pos_init + cs.vertcat(\n",
    "        a_p * cs.sin(s * (2 * cs.pi)),\n",
    "        0,\n",
    "        a_p * cs.sin(s * (2 * cs.pi)) * cs.cos(s * (2 * cs.pi)),\n",
    "    )\n",
    "    rot_path = ee_rot_init\n",
    "    # rot_path = np.array([[0, 1, 0], [1, 0, 0], [0, 0, 1]])\n",
    "\n",
    "    return pos_path, rot_path, sdot_path\n",
    "\n",
    "# Define contour/path based on the path-progress variable s\n",
    "pos_path, rot_path, sdot_path = contour_path(s)"
   ]
  },
  {
   "cell_type": "markdown",
   "id": "7a6b4846",
   "metadata": {},
   "source": [
    "#### Define end-effector position and orientation error  \n",
    "\n",
    "$\n",
    "\\begin{aligned}\n",
    "e_{T}(q,s) & = \\begin{bmatrix} p_{ee}(q) - p_{ref}(s) \\\\ \\frac{1}{2}(n_{ref}(s)\\times n_{ee}(q) + s_{ref}(s)\\times s_{ee}(q) + a_{ref}(s)\\times a_{ee}(q)) \\end{bmatrix},\n",
    "\\end{aligned}\n",
    "$   \n",
    "with $R_{ee} = \\left[\\begin{matrix} n_{ee} & s_{ee} & a_{ee} \\end{matrix}\\right]$ being the rotation matrix of the end-effector with respect to the robot joint angles $q$, and $R_{ref} = \\left[\\begin{matrix} n_{ref} & s_{ref} & a_{ref} \\end{matrix}\\right]$ the reference rotation matrix w.r.t the path-progress variable $s$  "
   ]
  },
  {
   "cell_type": "code",
   "execution_count": null,
   "id": "039252fc",
   "metadata": {},
   "outputs": [],
   "source": [
    "def pos_err(q, s):\n",
    "    ee_fk = robot.fk(q)[7]\n",
    "    return ee_fk[:3, 3] - pos_path\n",
    "\n",
    "\n",
    "def rot_err(q, s):\n",
    "    ee_fk = robot.fk(q)[7]\n",
    "    ee_rot_n = ee_fk[:3, 0]\n",
    "    ee_rot_s = ee_fk[:3, 1]\n",
    "    ee_rot_a = ee_fk[:3, 2]\n",
    "\n",
    "    path_rot_n = rot_path[:, 0]\n",
    "    path_rot_s = rot_path[:, 1]\n",
    "    path_rot_a = rot_path[:, 2]\n",
    "\n",
    "    return 0.5 * (\n",
    "        geometry.cross_vec2vec(ee_rot_n, path_rot_n)\n",
    "        + geometry.cross_vec2vec(ee_rot_s, path_rot_s)\n",
    "        + geometry.cross_vec2vec(ee_rot_a, path_rot_a)\n",
    "    )\n"
   ]
  },
  {
   "cell_type": "markdown",
   "id": "46ad5dbb",
   "metadata": {},
   "source": [
    "#### Add the tunnel constraint to the task context \n",
    "This constraint is managed as a soft constraint (adding a slack variable $l$ to the OCP)  \n",
    "$\\left\\Vert\\begin{bmatrix} p_{ee}(q) - p_{ref}(s)\\\\  \\frac{1}{2}\\begin{bmatrix}n_{ref}(s)\\times n_{ee}(q) + s_{ref}(s)\\times s_{ee}(q) + a_{ref}(s)\\times a_{ee}(q)\\end{bmatrix} \\end{bmatrix}\\right\\Vert^{2}  \\leq \\rho^{2} - l$"
   ]
  },
  {
   "cell_type": "code",
   "execution_count": null,
   "id": "e3d645da",
   "metadata": {},
   "outputs": [],
   "source": [
    "rho = 0.01\n",
    "\n",
    "tun_tunnel_con = { \n",
    "    \"hard\": False,\n",
    "    \"inequality\": True,\n",
    "    \"expression\": cs.vertcat(pos_err(q, s), rot_err(q, s)),\n",
    "    \"upper_limits\": rho ** 2,\n",
    "    \"gain\": 100,\n",
    "    \"norm\": \"squaredL2\",\n",
    "}\n",
    "tunnel_constraints = {\"path_constraints\": [tun_tunnel_con]}\n",
    "tc.add_task_constraint(tunnel_constraints)"
   ]
  },
  {
   "cell_type": "markdown",
   "id": "261fa79e",
   "metadata": {},
   "source": [
    "#### Define objective\n",
    "\n",
    "Add regularization terms to the objective"
   ]
  },
  {
   "cell_type": "code",
   "execution_count": null,
   "id": "974424c8",
   "metadata": {},
   "outputs": [],
   "source": [
    "tc.add_regularization(expression=(s_dot - sdot_path), weight=20, norm=\"L2\")\n",
    "tc.add_regularization(expression=pos_err(q, s), weight=1e-1, norm=\"L2\")\n",
    "tc.add_regularization(expression=rot_err(q, s), weight=1e-1, norm=\"L2\")\n",
    "\n",
    "if ocp_control == \"torque_resolved\":\n",
    "    tc.add_regularization(\n",
    "        expression=tau, weight=4e-5, norm=\"L2\", variable_type=\"control\", reference=0\n",
    "    )\n",
    "if ocp_control == \"acceleration_resolved\":\n",
    "    tc.add_regularization(\n",
    "        expression=q_ddot,\n",
    "        weight=1e-3,\n",
    "        norm=\"L2\",\n",
    "        variable_type=\"control\",\n",
    "        reference=0,\n",
    "    )\n",
    "tc.add_regularization(\n",
    "    expression=s_ddot, weight=4e-5, norm=\"L2\", variable_type=\"control\", reference=0\n",
    ")\n",
    "\n",
    "tc.add_regularization(\n",
    "    expression=q[0:8], weight=1e-2, norm=\"L2\", variable_type=\"state\", reference=0\n",
    ")\n",
    "tc.add_regularization(\n",
    "    expression=q_dot[0:8], weight=1e-2, norm=\"L2\", variable_type=\"state\", reference=0\n",
    ")"
   ]
  },
  {
   "cell_type": "markdown",
   "id": "ed5225aa",
   "metadata": {},
   "source": [
    "Add terms at $t_f$ to the objective"
   ]
  },
  {
   "cell_type": "code",
   "execution_count": null,
   "id": "1bb732cd",
   "metadata": {},
   "outputs": [],
   "source": [
    "tc.add_objective(\n",
    "    tc.ocp.at_tf(\n",
    "        1e-5\n",
    "        * cs.sumsqr(\n",
    "            cs.vertcat(\n",
    "                1e-2 * q[0:8],\n",
    "                10 * q_dot[0:8],\n",
    "                1e-2 * (1 - s),\n",
    "                10 * s_dot,\n",
    "                10 * pos_err(q, s),\n",
    "                10 * rot_err(q, s),\n",
    "            )\n",
    "        )\n",
    "    )\n",
    ")"
   ]
  },
  {
   "cell_type": "markdown",
   "id": "19ec7340",
   "metadata": {},
   "source": [
    "## OCP/MPC Options\n",
    "\n",
    "#### Set solver and discretization options"
   ]
  },
  {
   "cell_type": "code",
   "execution_count": null,
   "id": "9aff52ab",
   "metadata": {},
   "outputs": [],
   "source": [
    "tc.set_ocp_solver(\"ipopt\")\n",
    "\n",
    "disc_settings = {\n",
    "    \"discretization method\": \"multiple shooting\",\n",
    "    \"horizon size\": horizon_size,\n",
    "    \"order\": 1,\n",
    "    \"integration\": \"rk\",\n",
    "}\n",
    "tc.set_discretization_settings(disc_settings)"
   ]
  },
  {
   "cell_type": "markdown",
   "id": "8b2a15b0",
   "metadata": {},
   "source": [
    "#### Set parameter values\n",
    "In the defined task context, the parameters correspond to the initial state of the robot."
   ]
  },
  {
   "cell_type": "code",
   "execution_count": null,
   "id": "3eb4f391",
   "metadata": {},
   "outputs": [],
   "source": [
    "tc.ocp.set_value(q0, q_init)\n",
    "tc.ocp.set_value(q_dot0, [0] * robot.ndof)\n",
    "tc.ocp.set_value(s0, 0)\n",
    "tc.ocp.set_value(s_dot0, 0)"
   ]
  },
  {
   "cell_type": "markdown",
   "id": "3f0a8fe1",
   "metadata": {},
   "source": [
    "#### Solve the OCP that describes the task"
   ]
  },
  {
   "cell_type": "code",
   "execution_count": null,
   "id": "5aa429bb",
   "metadata": {},
   "outputs": [],
   "source": [
    "sol = tc.solve_ocp()"
   ]
  },
  {
   "cell_type": "markdown",
   "id": "7de5ff28",
   "metadata": {},
   "source": [
    "#### MPC simulation"
   ]
  },
  {
   "cell_type": "markdown",
   "id": "23efd027",
   "metadata": {},
   "source": [
    "Create world simulator based on pybullet"
   ]
  },
  {
   "cell_type": "code",
   "execution_count": null,
   "id": "2c958053",
   "metadata": {},
   "outputs": [],
   "source": [
    "from tasho import world_simulator\n",
    "import pybullet as p\n",
    "\n",
    "obj = world_simulator.world_simulator(bullet_gui=False)"
   ]
  },
  {
   "cell_type": "markdown",
   "id": "c47b7345",
   "metadata": {},
   "source": [
    "Add robot to the world environment"
   ]
  },
  {
   "cell_type": "code",
   "execution_count": null,
   "id": "d247da2d",
   "metadata": {},
   "outputs": [],
   "source": [
    "position = [0.0, 0.0, 0.0]\n",
    "orientation = [0.0, 0.0, 0.0, 1.0]\n",
    "yumiID = obj.add_robot(position, orientation, \"yumi\")"
   ]
  },
  {
   "cell_type": "markdown",
   "id": "4259482b",
   "metadata": {},
   "source": [
    "Determine number of samples that the simulation should be executed"
   ]
  },
  {
   "cell_type": "code",
   "execution_count": null,
   "id": "5d7607cd",
   "metadata": {},
   "outputs": [],
   "source": [
    "no_samples = int(t_mpc / obj.physics_ts)"
   ]
  },
  {
   "cell_type": "markdown",
   "id": "12ee24ac",
   "metadata": {},
   "source": [
    "Correspondence between joint numbers in bullet and OCP"
   ]
  },
  {
   "cell_type": "code",
   "execution_count": null,
   "id": "cf4e50ea",
   "metadata": {},
   "outputs": [],
   "source": [
    "joint_indices = [11, 12, 13, 14, 15, 16, 17, 18, 19, 1, 2, 3, 4, 5, 6, 7, 8, 9]"
   ]
  },
  {
   "cell_type": "markdown",
   "id": "d9688c82",
   "metadata": {},
   "source": [
    "Begin the visualization by applying the initial control signal"
   ]
  },
  {
   "cell_type": "code",
   "execution_count": null,
   "id": "d9d106ee",
   "metadata": {},
   "outputs": [],
   "source": [
    "obj.resetJointState(yumiID, joint_indices, q_init)\n",
    "obj.setController(yumiID, \"velocity\", joint_indices, targetVelocities=q_dot_init)"
   ]
  },
  {
   "cell_type": "markdown",
   "id": "d7238b76",
   "metadata": {},
   "source": [
    "#### Define MPC parameters"
   ]
  },
  {
   "cell_type": "code",
   "execution_count": null,
   "id": "b948054a",
   "metadata": {},
   "outputs": [],
   "source": [
    "mpc_params = {\"world\": obj}"
   ]
  },
  {
   "cell_type": "code",
   "execution_count": null,
   "id": "5b07e708",
   "metadata": {},
   "outputs": [],
   "source": [
    "q0_params_info = {\n",
    "    \"type\": \"joint_position\",\n",
    "    \"joint_indices\": joint_indices,\n",
    "    \"robotID\": yumiID,\n",
    "}\n",
    "q_dot0_params_info = {\n",
    "    \"type\": \"joint_velocity\",\n",
    "    \"joint_indices\": joint_indices,\n",
    "    \"robotID\": yumiID,\n",
    "}\n",
    "s0_params_info = {\"type\": \"progress_variable\", \"state\": True}\n",
    "s_dot0_params_info = {\"type\": \"progress_variable\", \"state\": True}\n",
    "\n",
    "mpc_params[\"params\"] = {\n",
    "    \"q0\": q0_params_info,\n",
    "    \"q_dot0\": q_dot0_params_info,\n",
    "    \"s0\": s0_params_info,\n",
    "    \"s_dot0\": s_dot0_params_info,\n",
    "    \"robots\": {yumiID: robot},\n",
    "}\n",
    "mpc_params[\"log_solution\"] = True"
   ]
  },
  {
   "cell_type": "markdown",
   "id": "7d507767",
   "metadata": {},
   "source": [
    "Replace the solver used in the task context (IPOPT) with the SQP method and QRQP for MPC execution"
   ]
  },
  {
   "cell_type": "code",
   "execution_count": null,
   "id": "b2ae8829",
   "metadata": {},
   "outputs": [],
   "source": [
    "mpc_params[\"disc_settings\"] = disc_settings\n",
    "mpc_params[\"solver_name\"] = \"sqpmethod\"\n",
    "mpc_params[\"solver_params\"] = {\"qrqp\": True}\n",
    "mpc_params[\"t_mpc\"] = t_mpc\n",
    "mpc_params[\"control_type\"] = \"joint_velocity\"  #'joint_torque'\n",
    "mpc_params[\"control_info\"] = {\n",
    "    \"robotID\": yumiID,\n",
    "    \"discretization\": \"constant_acceleration\",\n",
    "    \"joint_indices\": joint_indices,\n",
    "    \"no_samples\": no_samples,\n",
    "}"
   ]
  },
  {
   "cell_type": "markdown",
   "id": "8ee4ccab",
   "metadata": {},
   "source": [
    "#### Define code-generation options\n",
    "This options may include just-in-time compilation, compilation flags, selection of desired compiler, etc."
   ]
  },
  {
   "cell_type": "code",
   "execution_count": null,
   "id": "841caa5d",
   "metadata": {},
   "outputs": [],
   "source": [
    "mpc_params[\"codegen\"] = {\n",
    "    \"codegen\": False,\n",
    "    \"filename\": \"mpc_c\",\n",
    "    \"compilation\": False,\n",
    "    \"compiler\": \"gcc\",\n",
    "    \"flags\": \"-O3 -ffast-math -flto -funroll-loops -march=native -mfpmath=both -mvzeroupper\",\n",
    "    \"use_external\": False,\n",
    "    \"jit\": False,\n",
    "}"
   ]
  },
  {
   "cell_type": "markdown",
   "id": "26487313",
   "metadata": {},
   "source": [
    "#### Create monitor\n",
    "Add monitor to check some termination criteria based on the path-progress variable $s$"
   ]
  },
  {
   "cell_type": "code",
   "execution_count": null,
   "id": "de0442ef",
   "metadata": {},
   "outputs": [],
   "source": [
    "tc.add_monitor(\n",
    "    {\n",
    "        \"name\": \"termination_criteria\",\n",
    "        \"expression\": s,\n",
    "        \"reference\": 0.99,\n",
    "        \"greater\": True,\n",
    "        \"initial\": True,\n",
    "    }\n",
    ")"
   ]
  },
  {
   "cell_type": "markdown",
   "id": "4e75790a",
   "metadata": {},
   "source": [
    "#### MPC object\n",
    "Initialize MPC object based on the task context created previously and the defined MPC parameters"
   ]
  },
  {
   "cell_type": "code",
   "execution_count": null,
   "id": "a2650b7a",
   "metadata": {},
   "outputs": [],
   "source": [
    "sim_type = \"bullet_notrealtime\"\n",
    "mpc_obj = MPC.MPC(tc, sim_type, mpc_params)\n",
    "mpc_obj.max_mpc_iter = 4000"
   ]
  },
  {
   "cell_type": "markdown",
   "id": "b3a6f8c2",
   "metadata": {},
   "source": [
    "Run the OCP with IPOPT once to get a good initial guess for the MPC, and code-generate the MPC function if required"
   ]
  },
  {
   "cell_type": "code",
   "execution_count": null,
   "id": "4884a1ed",
   "metadata": {},
   "outputs": [],
   "source": [
    "mpc_obj.configMPC_fromcurrent()"
   ]
  },
  {
   "cell_type": "markdown",
   "id": "10c2423e",
   "metadata": {},
   "source": [
    "#### Execute the MPC loop"
   ]
  },
  {
   "cell_type": "code",
   "execution_count": null,
   "id": "1c2dddaf",
   "metadata": {
    "tags": [
     "outputPrepend"
    ]
   },
   "outputs": [],
   "source": [
    "mpc_obj.runMPC()"
   ]
  },
  {
   "cell_type": "markdown",
   "id": "cab65975",
   "metadata": {},
   "source": [
    "The MPC execution is finished when the termination criteria defined by the monitor is reached."
   ]
  }
 ],
 "metadata": {
  "kernelspec": {
   "display_name": "Python 3",
   "language": "python",
   "name": "python3"
  },
  "language_info": {
   "codemirror_mode": {
    "name": "ipython",
    "version": 3
   },
   "file_extension": ".py",
   "mimetype": "text/x-python",
   "name": "python",
   "nbconvert_exporter": "python",
   "pygments_lexer": "ipython3",
   "version": "3.6.10"
  }
 },
 "nbformat": 4,
 "nbformat_minor": 5
}
